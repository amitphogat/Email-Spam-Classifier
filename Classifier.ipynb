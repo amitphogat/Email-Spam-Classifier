{
 "cells": [
  {
   "cell_type": "code",
   "execution_count": 1,
   "id": "18421288",
   "metadata": {},
   "outputs": [],
   "source": [
    "import numpy as np\n",
    "import pandas as pd"
   ]
  },
  {
   "cell_type": "code",
   "execution_count": 2,
   "id": "0c28ba76",
   "metadata": {},
   "outputs": [],
   "source": [
    "df = pd.read_csv(\"spam.csv\")"
   ]
  },
  {
   "cell_type": "code",
   "execution_count": 3,
   "id": "5efbac50",
   "metadata": {},
   "outputs": [
    {
     "data": {
      "text/html": [
       "<div>\n",
       "<style scoped>\n",
       "    .dataframe tbody tr th:only-of-type {\n",
       "        vertical-align: middle;\n",
       "    }\n",
       "\n",
       "    .dataframe tbody tr th {\n",
       "        vertical-align: top;\n",
       "    }\n",
       "\n",
       "    .dataframe thead th {\n",
       "        text-align: right;\n",
       "    }\n",
       "</style>\n",
       "<table border=\"1\" class=\"dataframe\">\n",
       "  <thead>\n",
       "    <tr style=\"text-align: right;\">\n",
       "      <th></th>\n",
       "      <th>v1</th>\n",
       "      <th>v2</th>\n",
       "      <th>Unnamed: 2</th>\n",
       "      <th>Unnamed: 3</th>\n",
       "      <th>Unnamed: 4</th>\n",
       "    </tr>\n",
       "  </thead>\n",
       "  <tbody>\n",
       "    <tr>\n",
       "      <th>0</th>\n",
       "      <td>ham</td>\n",
       "      <td>Go until jurong point, crazy.. Available only ...</td>\n",
       "      <td>NaN</td>\n",
       "      <td>NaN</td>\n",
       "      <td>NaN</td>\n",
       "    </tr>\n",
       "    <tr>\n",
       "      <th>1</th>\n",
       "      <td>ham</td>\n",
       "      <td>Ok lar... Joking wif u oni...</td>\n",
       "      <td>NaN</td>\n",
       "      <td>NaN</td>\n",
       "      <td>NaN</td>\n",
       "    </tr>\n",
       "    <tr>\n",
       "      <th>2</th>\n",
       "      <td>spam</td>\n",
       "      <td>Free entry in 2 a wkly comp to win FA Cup fina...</td>\n",
       "      <td>NaN</td>\n",
       "      <td>NaN</td>\n",
       "      <td>NaN</td>\n",
       "    </tr>\n",
       "    <tr>\n",
       "      <th>3</th>\n",
       "      <td>ham</td>\n",
       "      <td>U dun say so early hor... U c already then say...</td>\n",
       "      <td>NaN</td>\n",
       "      <td>NaN</td>\n",
       "      <td>NaN</td>\n",
       "    </tr>\n",
       "    <tr>\n",
       "      <th>4</th>\n",
       "      <td>ham</td>\n",
       "      <td>Nah I don't think he goes to usf, he lives aro...</td>\n",
       "      <td>NaN</td>\n",
       "      <td>NaN</td>\n",
       "      <td>NaN</td>\n",
       "    </tr>\n",
       "  </tbody>\n",
       "</table>\n",
       "</div>"
      ],
      "text/plain": [
       "     v1                                                 v2 Unnamed: 2  \\\n",
       "0   ham  Go until jurong point, crazy.. Available only ...        NaN   \n",
       "1   ham                      Ok lar... Joking wif u oni...        NaN   \n",
       "2  spam  Free entry in 2 a wkly comp to win FA Cup fina...        NaN   \n",
       "3   ham  U dun say so early hor... U c already then say...        NaN   \n",
       "4   ham  Nah I don't think he goes to usf, he lives aro...        NaN   \n",
       "\n",
       "  Unnamed: 3 Unnamed: 4  \n",
       "0        NaN        NaN  \n",
       "1        NaN        NaN  \n",
       "2        NaN        NaN  \n",
       "3        NaN        NaN  \n",
       "4        NaN        NaN  "
      ]
     },
     "execution_count": 3,
     "metadata": {},
     "output_type": "execute_result"
    }
   ],
   "source": [
    "df.head()"
   ]
  },
  {
   "cell_type": "code",
   "execution_count": 4,
   "id": "fbc67ebe",
   "metadata": {},
   "outputs": [],
   "source": [
    "#1. Data Cleaning\n",
    "#2. EDA\n",
    "#3. Text Preprocessing\n",
    "#4. Evaluation\n",
    "#5. Improvment"
   ]
  },
  {
   "cell_type": "code",
   "execution_count": 5,
   "id": "32cdf3d5",
   "metadata": {},
   "outputs": [
    {
     "name": "stdout",
     "output_type": "stream",
     "text": [
      "<class 'pandas.core.frame.DataFrame'>\n",
      "RangeIndex: 5572 entries, 0 to 5571\n",
      "Data columns (total 5 columns):\n",
      " #   Column      Non-Null Count  Dtype \n",
      "---  ------      --------------  ----- \n",
      " 0   v1          5572 non-null   object\n",
      " 1   v2          5572 non-null   object\n",
      " 2   Unnamed: 2  50 non-null     object\n",
      " 3   Unnamed: 3  12 non-null     object\n",
      " 4   Unnamed: 4  6 non-null      object\n",
      "dtypes: object(5)\n",
      "memory usage: 217.8+ KB\n"
     ]
    }
   ],
   "source": [
    "# Data Cleaning\n",
    "df.info()"
   ]
  },
  {
   "cell_type": "code",
   "execution_count": 6,
   "id": "723bfd35",
   "metadata": {},
   "outputs": [],
   "source": [
    "#drop last 3 columns\n",
    "df.drop(columns = [\"Unnamed: 2\", \"Unnamed: 3\", \"Unnamed: 4\"], inplace = True)"
   ]
  },
  {
   "cell_type": "code",
   "execution_count": 7,
   "id": "fd7ceca3",
   "metadata": {},
   "outputs": [],
   "source": [
    "#Renaming  the cols\n",
    "df.rename(columns = {\"v1\":\"target\", \"v2\":\"text\"},inplace = True)"
   ]
  },
  {
   "cell_type": "code",
   "execution_count": 8,
   "id": "7eecaddc",
   "metadata": {},
   "outputs": [
    {
     "data": {
      "text/html": [
       "<div>\n",
       "<style scoped>\n",
       "    .dataframe tbody tr th:only-of-type {\n",
       "        vertical-align: middle;\n",
       "    }\n",
       "\n",
       "    .dataframe tbody tr th {\n",
       "        vertical-align: top;\n",
       "    }\n",
       "\n",
       "    .dataframe thead th {\n",
       "        text-align: right;\n",
       "    }\n",
       "</style>\n",
       "<table border=\"1\" class=\"dataframe\">\n",
       "  <thead>\n",
       "    <tr style=\"text-align: right;\">\n",
       "      <th></th>\n",
       "      <th>target</th>\n",
       "      <th>text</th>\n",
       "    </tr>\n",
       "  </thead>\n",
       "  <tbody>\n",
       "    <tr>\n",
       "      <th>4532</th>\n",
       "      <td>spam</td>\n",
       "      <td>Gr8 new service - live sex video chat on your ...</td>\n",
       "    </tr>\n",
       "    <tr>\n",
       "      <th>3918</th>\n",
       "      <td>ham</td>\n",
       "      <td>I wish! I don't think its gonna snow that much...</td>\n",
       "    </tr>\n",
       "    <tr>\n",
       "      <th>796</th>\n",
       "      <td>spam</td>\n",
       "      <td>Orange customer, you may now claim your FREE C...</td>\n",
       "    </tr>\n",
       "    <tr>\n",
       "      <th>1286</th>\n",
       "      <td>ham</td>\n",
       "      <td>Night has ended for another day, morning has c...</td>\n",
       "    </tr>\n",
       "    <tr>\n",
       "      <th>1300</th>\n",
       "      <td>ham</td>\n",
       "      <td>Those cocksuckers. If it makes you feel better...</td>\n",
       "    </tr>\n",
       "  </tbody>\n",
       "</table>\n",
       "</div>"
      ],
      "text/plain": [
       "     target                                               text\n",
       "4532   spam  Gr8 new service - live sex video chat on your ...\n",
       "3918    ham  I wish! I don't think its gonna snow that much...\n",
       "796    spam  Orange customer, you may now claim your FREE C...\n",
       "1286    ham  Night has ended for another day, morning has c...\n",
       "1300    ham  Those cocksuckers. If it makes you feel better..."
      ]
     },
     "execution_count": 8,
     "metadata": {},
     "output_type": "execute_result"
    }
   ],
   "source": [
    "df.sample(5)"
   ]
  },
  {
   "cell_type": "code",
   "execution_count": 9,
   "id": "f540a217",
   "metadata": {},
   "outputs": [],
   "source": [
    "from sklearn.preprocessing import LabelEncoder\n",
    "encoder = LabelEncoder()"
   ]
  },
  {
   "cell_type": "code",
   "execution_count": 10,
   "id": "1c7768eb",
   "metadata": {},
   "outputs": [],
   "source": [
    "df[\"target\"] = encoder.fit_transform(df['target'])"
   ]
  },
  {
   "cell_type": "code",
   "execution_count": 11,
   "id": "fe94a013",
   "metadata": {},
   "outputs": [
    {
     "data": {
      "text/html": [
       "<div>\n",
       "<style scoped>\n",
       "    .dataframe tbody tr th:only-of-type {\n",
       "        vertical-align: middle;\n",
       "    }\n",
       "\n",
       "    .dataframe tbody tr th {\n",
       "        vertical-align: top;\n",
       "    }\n",
       "\n",
       "    .dataframe thead th {\n",
       "        text-align: right;\n",
       "    }\n",
       "</style>\n",
       "<table border=\"1\" class=\"dataframe\">\n",
       "  <thead>\n",
       "    <tr style=\"text-align: right;\">\n",
       "      <th></th>\n",
       "      <th>target</th>\n",
       "      <th>text</th>\n",
       "    </tr>\n",
       "  </thead>\n",
       "  <tbody>\n",
       "    <tr>\n",
       "      <th>0</th>\n",
       "      <td>0</td>\n",
       "      <td>Go until jurong point, crazy.. Available only ...</td>\n",
       "    </tr>\n",
       "    <tr>\n",
       "      <th>1</th>\n",
       "      <td>0</td>\n",
       "      <td>Ok lar... Joking wif u oni...</td>\n",
       "    </tr>\n",
       "    <tr>\n",
       "      <th>2</th>\n",
       "      <td>1</td>\n",
       "      <td>Free entry in 2 a wkly comp to win FA Cup fina...</td>\n",
       "    </tr>\n",
       "    <tr>\n",
       "      <th>3</th>\n",
       "      <td>0</td>\n",
       "      <td>U dun say so early hor... U c already then say...</td>\n",
       "    </tr>\n",
       "    <tr>\n",
       "      <th>4</th>\n",
       "      <td>0</td>\n",
       "      <td>Nah I don't think he goes to usf, he lives aro...</td>\n",
       "    </tr>\n",
       "  </tbody>\n",
       "</table>\n",
       "</div>"
      ],
      "text/plain": [
       "   target                                               text\n",
       "0       0  Go until jurong point, crazy.. Available only ...\n",
       "1       0                      Ok lar... Joking wif u oni...\n",
       "2       1  Free entry in 2 a wkly comp to win FA Cup fina...\n",
       "3       0  U dun say so early hor... U c already then say...\n",
       "4       0  Nah I don't think he goes to usf, he lives aro..."
      ]
     },
     "execution_count": 11,
     "metadata": {},
     "output_type": "execute_result"
    }
   ],
   "source": [
    "df.head() # Ham = 0, spam = 1"
   ]
  },
  {
   "cell_type": "code",
   "execution_count": 12,
   "id": "5d465a3c",
   "metadata": {},
   "outputs": [
    {
     "data": {
      "text/plain": [
       "target    0\n",
       "text      0\n",
       "dtype: int64"
      ]
     },
     "execution_count": 12,
     "metadata": {},
     "output_type": "execute_result"
    }
   ],
   "source": [
    "df.isnull().sum()"
   ]
  },
  {
   "cell_type": "code",
   "execution_count": 13,
   "id": "be03f7e0",
   "metadata": {},
   "outputs": [
    {
     "data": {
      "text/plain": [
       "403"
      ]
     },
     "execution_count": 13,
     "metadata": {},
     "output_type": "execute_result"
    }
   ],
   "source": [
    "df.duplicated().sum()"
   ]
  },
  {
   "cell_type": "code",
   "execution_count": 14,
   "id": "822ceb92",
   "metadata": {},
   "outputs": [],
   "source": [
    "df = df.drop_duplicates(keep = 'first')"
   ]
  },
  {
   "cell_type": "code",
   "execution_count": 15,
   "id": "d24e03c6",
   "metadata": {},
   "outputs": [
    {
     "data": {
      "text/plain": [
       "0"
      ]
     },
     "execution_count": 15,
     "metadata": {},
     "output_type": "execute_result"
    }
   ],
   "source": [
    "df.duplicated().sum()"
   ]
  },
  {
   "cell_type": "markdown",
   "id": "858e94ed",
   "metadata": {},
   "source": [
    "## 2. EDA"
   ]
  },
  {
   "cell_type": "code",
   "execution_count": 16,
   "id": "bd1e9daa",
   "metadata": {},
   "outputs": [
    {
     "data": {
      "text/html": [
       "<div>\n",
       "<style scoped>\n",
       "    .dataframe tbody tr th:only-of-type {\n",
       "        vertical-align: middle;\n",
       "    }\n",
       "\n",
       "    .dataframe tbody tr th {\n",
       "        vertical-align: top;\n",
       "    }\n",
       "\n",
       "    .dataframe thead th {\n",
       "        text-align: right;\n",
       "    }\n",
       "</style>\n",
       "<table border=\"1\" class=\"dataframe\">\n",
       "  <thead>\n",
       "    <tr style=\"text-align: right;\">\n",
       "      <th></th>\n",
       "      <th>target</th>\n",
       "      <th>text</th>\n",
       "    </tr>\n",
       "  </thead>\n",
       "  <tbody>\n",
       "    <tr>\n",
       "      <th>0</th>\n",
       "      <td>0</td>\n",
       "      <td>Go until jurong point, crazy.. Available only ...</td>\n",
       "    </tr>\n",
       "    <tr>\n",
       "      <th>1</th>\n",
       "      <td>0</td>\n",
       "      <td>Ok lar... Joking wif u oni...</td>\n",
       "    </tr>\n",
       "    <tr>\n",
       "      <th>2</th>\n",
       "      <td>1</td>\n",
       "      <td>Free entry in 2 a wkly comp to win FA Cup fina...</td>\n",
       "    </tr>\n",
       "    <tr>\n",
       "      <th>3</th>\n",
       "      <td>0</td>\n",
       "      <td>U dun say so early hor... U c already then say...</td>\n",
       "    </tr>\n",
       "    <tr>\n",
       "      <th>4</th>\n",
       "      <td>0</td>\n",
       "      <td>Nah I don't think he goes to usf, he lives aro...</td>\n",
       "    </tr>\n",
       "  </tbody>\n",
       "</table>\n",
       "</div>"
      ],
      "text/plain": [
       "   target                                               text\n",
       "0       0  Go until jurong point, crazy.. Available only ...\n",
       "1       0                      Ok lar... Joking wif u oni...\n",
       "2       1  Free entry in 2 a wkly comp to win FA Cup fina...\n",
       "3       0  U dun say so early hor... U c already then say...\n",
       "4       0  Nah I don't think he goes to usf, he lives aro..."
      ]
     },
     "execution_count": 16,
     "metadata": {},
     "output_type": "execute_result"
    }
   ],
   "source": [
    "df.head()"
   ]
  },
  {
   "cell_type": "code",
   "execution_count": 17,
   "id": "0d6e7f9c",
   "metadata": {},
   "outputs": [
    {
     "data": {
      "text/plain": [
       "0    4516\n",
       "1     653\n",
       "Name: target, dtype: int64"
      ]
     },
     "execution_count": 17,
     "metadata": {},
     "output_type": "execute_result"
    }
   ],
   "source": [
    "df['target'].value_counts()"
   ]
  },
  {
   "cell_type": "code",
   "execution_count": 18,
   "id": "78a51a8f",
   "metadata": {},
   "outputs": [
    {
     "data": {
      "image/png": "[encoded data removed]",
      "text/plain": [
       "<Figure size 432x288 with 1 Axes>"
      ]
     },
     "metadata": {},
     "output_type": "display_data"
    }
   ],
   "source": [
    "import matplotlib.pyplot as plt\n",
    "plt.pie(df['target'].value_counts(), labels= ['ham','spam'], autopct = \"%0.2f\")\n",
    "plt.show()"
   ]
  },
  {
   "cell_type": "code",
   "execution_count": 19,
   "id": "a961fd84",
   "metadata": {},
   "outputs": [],
   "source": [
    "#Data is Imbalanced"
   ]
  },
  {
   "cell_type": "code",
   "execution_count": 20,
   "id": "359b689d",
   "metadata": {},
   "outputs": [],
   "source": [
    "import nltk\n",
    "# We will check in smses how many alphabets, how many words and sentences are there."
   ]
  },
  {
   "cell_type": "code",
   "execution_count": 21,
   "id": "3ea458bf",
   "metadata": {},
   "outputs": [
    {
     "name": "stderr",
     "output_type": "stream",
     "text": [
      "[nltk_data] Downloading package punkt to\n",
      "[nltk_data]     C:\\Users\\amitp\\AppData\\Roaming\\nltk_data...\n",
      "[nltk_data]   Package punkt is already up-to-date!\n"
     ]
    },
    {
     "data": {
      "text/plain": [
       "True"
      ]
     },
     "execution_count": 21,
     "metadata": {},
     "output_type": "execute_result"
    }
   ],
   "source": [
    "nltk.download('punkt')"
   ]
  },
  {
   "cell_type": "code",
   "execution_count": 22,
   "id": "5ace190a",
   "metadata": {},
   "outputs": [],
   "source": [
    "df['num_characters'] = df['text'].apply(len)"
   ]
  },
  {
   "cell_type": "code",
   "execution_count": 23,
   "id": "22ba7996",
   "metadata": {},
   "outputs": [],
   "source": [
    "#num of words\n",
    "df['num_words'] = df['text'].apply(lambda x: len(nltk.word_tokenize(x)))"
   ]
  },
  {
   "cell_type": "code",
   "execution_count": 24,
   "id": "dca62eb6",
   "metadata": {},
   "outputs": [
    {
     "data": {
      "text/html": [
       "<div>\n",
       "<style scoped>\n",
       "    .dataframe tbody tr th:only-of-type {\n",
       "        vertical-align: middle;\n",
       "    }\n",
       "\n",
       "    .dataframe tbody tr th {\n",
       "        vertical-align: top;\n",
       "    }\n",
       "\n",
       "    .dataframe thead th {\n",
       "        text-align: right;\n",
       "    }\n",
       "</style>\n",
       "<table border=\"1\" class=\"dataframe\">\n",
       "  <thead>\n",
       "    <tr style=\"text-align: right;\">\n",
       "      <th></th>\n",
       "      <th>target</th>\n",
       "      <th>text</th>\n",
       "      <th>num_characters</th>\n",
       "      <th>num_words</th>\n",
       "    </tr>\n",
       "  </thead>\n",
       "  <tbody>\n",
       "    <tr>\n",
       "      <th>0</th>\n",
       "      <td>0</td>\n",
       "      <td>Go until jurong point, crazy.. Available only ...</td>\n",
       "      <td>111</td>\n",
       "      <td>24</td>\n",
       "    </tr>\n",
       "    <tr>\n",
       "      <th>1</th>\n",
       "      <td>0</td>\n",
       "      <td>Ok lar... Joking wif u oni...</td>\n",
       "      <td>29</td>\n",
       "      <td>8</td>\n",
       "    </tr>\n",
       "    <tr>\n",
       "      <th>2</th>\n",
       "      <td>1</td>\n",
       "      <td>Free entry in 2 a wkly comp to win FA Cup fina...</td>\n",
       "      <td>155</td>\n",
       "      <td>37</td>\n",
       "    </tr>\n",
       "    <tr>\n",
       "      <th>3</th>\n",
       "      <td>0</td>\n",
       "      <td>U dun say so early hor... U c already then say...</td>\n",
       "      <td>49</td>\n",
       "      <td>13</td>\n",
       "    </tr>\n",
       "    <tr>\n",
       "      <th>4</th>\n",
       "      <td>0</td>\n",
       "      <td>Nah I don't think he goes to usf, he lives aro...</td>\n",
       "      <td>61</td>\n",
       "      <td>15</td>\n",
       "    </tr>\n",
       "  </tbody>\n",
       "</table>\n",
       "</div>"
      ],
      "text/plain": [
       "   target                                               text  num_characters  \\\n",
       "0       0  Go until jurong point, crazy.. Available only ...             111   \n",
       "1       0                      Ok lar... Joking wif u oni...              29   \n",
       "2       1  Free entry in 2 a wkly comp to win FA Cup fina...             155   \n",
       "3       0  U dun say so early hor... U c already then say...              49   \n",
       "4       0  Nah I don't think he goes to usf, he lives aro...              61   \n",
       "\n",
       "   num_words  \n",
       "0         24  \n",
       "1          8  \n",
       "2         37  \n",
       "3         13  \n",
       "4         15  "
      ]
     },
     "execution_count": 24,
     "metadata": {},
     "output_type": "execute_result"
    }
   ],
   "source": [
    "df.head()"
   ]
  },
  {
   "cell_type": "code",
   "execution_count": 25,
   "id": "d49ee74b",
   "metadata": {},
   "outputs": [],
   "source": [
    "df['num_sentences'] = df['text'].apply(lambda x: len(nltk.sent_tokenize(x)))"
   ]
  },
  {
   "cell_type": "code",
   "execution_count": 26,
   "id": "ff62b36c",
   "metadata": {},
   "outputs": [
    {
     "data": {
      "text/html": [
       "<div>\n",
       "<style scoped>\n",
       "    .dataframe tbody tr th:only-of-type {\n",
       "        vertical-align: middle;\n",
       "    }\n",
       "\n",
       "    .dataframe tbody tr th {\n",
       "        vertical-align: top;\n",
       "    }\n",
       "\n",
       "    .dataframe thead th {\n",
       "        text-align: right;\n",
       "    }\n",
       "</style>\n",
       "<table border=\"1\" class=\"dataframe\">\n",
       "  <thead>\n",
       "    <tr style=\"text-align: right;\">\n",
       "      <th></th>\n",
       "      <th>target</th>\n",
       "      <th>text</th>\n",
       "      <th>num_characters</th>\n",
       "      <th>num_words</th>\n",
       "      <th>num_sentences</th>\n",
       "    </tr>\n",
       "  </thead>\n",
       "  <tbody>\n",
       "    <tr>\n",
       "      <th>0</th>\n",
       "      <td>0</td>\n",
       "      <td>Go until jurong point, crazy.. Available only ...</td>\n",
       "      <td>111</td>\n",
       "      <td>24</td>\n",
       "      <td>2</td>\n",
       "    </tr>\n",
       "    <tr>\n",
       "      <th>1</th>\n",
       "      <td>0</td>\n",
       "      <td>Ok lar... Joking wif u oni...</td>\n",
       "      <td>29</td>\n",
       "      <td>8</td>\n",
       "      <td>2</td>\n",
       "    </tr>\n",
       "    <tr>\n",
       "      <th>2</th>\n",
       "      <td>1</td>\n",
       "      <td>Free entry in 2 a wkly comp to win FA Cup fina...</td>\n",
       "      <td>155</td>\n",
       "      <td>37</td>\n",
       "      <td>2</td>\n",
       "    </tr>\n",
       "    <tr>\n",
       "      <th>3</th>\n",
       "      <td>0</td>\n",
       "      <td>U dun say so early hor... U c already then say...</td>\n",
       "      <td>49</td>\n",
       "      <td>13</td>\n",
       "      <td>1</td>\n",
       "    </tr>\n",
       "    <tr>\n",
       "      <th>4</th>\n",
       "      <td>0</td>\n",
       "      <td>Nah I don't think he goes to usf, he lives aro...</td>\n",
       "      <td>61</td>\n",
       "      <td>15</td>\n",
       "      <td>1</td>\n",
       "    </tr>\n",
       "  </tbody>\n",
       "</table>\n",
       "</div>"
      ],
      "text/plain": [
       "   target                                               text  num_characters  \\\n",
       "0       0  Go until jurong point, crazy.. Available only ...             111   \n",
       "1       0                      Ok lar... Joking wif u oni...              29   \n",
       "2       1  Free entry in 2 a wkly comp to win FA Cup fina...             155   \n",
       "3       0  U dun say so early hor... U c already then say...              49   \n",
       "4       0  Nah I don't think he goes to usf, he lives aro...              61   \n",
       "\n",
       "   num_words  num_sentences  \n",
       "0         24              2  \n",
       "1          8              2  \n",
       "2         37              2  \n",
       "3         13              1  \n",
       "4         15              1  "
      ]
     },
     "execution_count": 26,
     "metadata": {},
     "output_type": "execute_result"
    }
   ],
   "source": [
    "df.head()"
   ]
  },
  {
   "cell_type": "code",
   "execution_count": 27,
   "id": "b4695aeb",
   "metadata": {},
   "outputs": [
    {
     "data": {
      "text/html": [
       "<div>\n",
       "<style scoped>\n",
       "    .dataframe tbody tr th:only-of-type {\n",
       "        vertical-align: middle;\n",
       "    }\n",
       "\n",
       "    .dataframe tbody tr th {\n",
       "        vertical-align: top;\n",
       "    }\n",
       "\n",
       "    .dataframe thead th {\n",
       "        text-align: right;\n",
       "    }\n",
       "</style>\n",
       "<table border=\"1\" class=\"dataframe\">\n",
       "  <thead>\n",
       "    <tr style=\"text-align: right;\">\n",
       "      <th></th>\n",
       "      <th>num_characters</th>\n",
       "      <th>num_words</th>\n",
       "      <th>num_sentences</th>\n",
       "    </tr>\n",
       "  </thead>\n",
       "  <tbody>\n",
       "    <tr>\n",
       "      <th>count</th>\n",
       "      <td>5169.000000</td>\n",
       "      <td>5169.000000</td>\n",
       "      <td>5169.000000</td>\n",
       "    </tr>\n",
       "    <tr>\n",
       "      <th>mean</th>\n",
       "      <td>78.923776</td>\n",
       "      <td>18.456375</td>\n",
       "      <td>1.962275</td>\n",
       "    </tr>\n",
       "    <tr>\n",
       "      <th>std</th>\n",
       "      <td>58.174846</td>\n",
       "      <td>13.323322</td>\n",
       "      <td>1.433892</td>\n",
       "    </tr>\n",
       "    <tr>\n",
       "      <th>min</th>\n",
       "      <td>2.000000</td>\n",
       "      <td>1.000000</td>\n",
       "      <td>1.000000</td>\n",
       "    </tr>\n",
       "    <tr>\n",
       "      <th>25%</th>\n",
       "      <td>36.000000</td>\n",
       "      <td>9.000000</td>\n",
       "      <td>1.000000</td>\n",
       "    </tr>\n",
       "    <tr>\n",
       "      <th>50%</th>\n",
       "      <td>60.000000</td>\n",
       "      <td>15.000000</td>\n",
       "      <td>1.000000</td>\n",
       "    </tr>\n",
       "    <tr>\n",
       "      <th>75%</th>\n",
       "      <td>117.000000</td>\n",
       "      <td>26.000000</td>\n",
       "      <td>2.000000</td>\n",
       "    </tr>\n",
       "    <tr>\n",
       "      <th>max</th>\n",
       "      <td>910.000000</td>\n",
       "      <td>220.000000</td>\n",
       "      <td>38.000000</td>\n",
       "    </tr>\n",
       "  </tbody>\n",
       "</table>\n",
       "</div>"
      ],
      "text/plain": [
       "       num_characters    num_words  num_sentences\n",
       "count     5169.000000  5169.000000    5169.000000\n",
       "mean        78.923776    18.456375       1.962275\n",
       "std         58.174846    13.323322       1.433892\n",
       "min          2.000000     1.000000       1.000000\n",
       "25%         36.000000     9.000000       1.000000\n",
       "50%         60.000000    15.000000       1.000000\n",
       "75%        117.000000    26.000000       2.000000\n",
       "max        910.000000   220.000000      38.000000"
      ]
     },
     "execution_count": 27,
     "metadata": {},
     "output_type": "execute_result"
    }
   ],
   "source": [
    "df[['num_characters', 'num_words', 'num_sentences']].describe()"
   ]
  },
  {
   "cell_type": "code",
   "execution_count": 28,
   "id": "5f8cfca8",
   "metadata": {},
   "outputs": [
    {
     "data": {
      "text/html": [
       "<div>\n",
       "<style scoped>\n",
       "    .dataframe tbody tr th:only-of-type {\n",
       "        vertical-align: middle;\n",
       "    }\n",
       "\n",
       "    .dataframe tbody tr th {\n",
       "        vertical-align: top;\n",
       "    }\n",
       "\n",
       "    .dataframe thead th {\n",
       "        text-align: right;\n",
       "    }\n",
       "</style>\n",
       "<table border=\"1\" class=\"dataframe\">\n",
       "  <thead>\n",
       "    <tr style=\"text-align: right;\">\n",
       "      <th></th>\n",
       "      <th>num_characters</th>\n",
       "      <th>num_words</th>\n",
       "      <th>num_sentences</th>\n",
       "    </tr>\n",
       "  </thead>\n",
       "  <tbody>\n",
       "    <tr>\n",
       "      <th>count</th>\n",
       "      <td>4516.000000</td>\n",
       "      <td>4516.000000</td>\n",
       "      <td>4516.000000</td>\n",
       "    </tr>\n",
       "    <tr>\n",
       "      <th>mean</th>\n",
       "      <td>70.456820</td>\n",
       "      <td>17.123339</td>\n",
       "      <td>1.815545</td>\n",
       "    </tr>\n",
       "    <tr>\n",
       "      <th>std</th>\n",
       "      <td>56.356802</td>\n",
       "      <td>13.491315</td>\n",
       "      <td>1.364098</td>\n",
       "    </tr>\n",
       "    <tr>\n",
       "      <th>min</th>\n",
       "      <td>2.000000</td>\n",
       "      <td>1.000000</td>\n",
       "      <td>1.000000</td>\n",
       "    </tr>\n",
       "    <tr>\n",
       "      <th>25%</th>\n",
       "      <td>34.000000</td>\n",
       "      <td>8.000000</td>\n",
       "      <td>1.000000</td>\n",
       "    </tr>\n",
       "    <tr>\n",
       "      <th>50%</th>\n",
       "      <td>52.000000</td>\n",
       "      <td>13.000000</td>\n",
       "      <td>1.000000</td>\n",
       "    </tr>\n",
       "    <tr>\n",
       "      <th>75%</th>\n",
       "      <td>90.000000</td>\n",
       "      <td>22.000000</td>\n",
       "      <td>2.000000</td>\n",
       "    </tr>\n",
       "    <tr>\n",
       "      <th>max</th>\n",
       "      <td>910.000000</td>\n",
       "      <td>220.000000</td>\n",
       "      <td>38.000000</td>\n",
       "    </tr>\n",
       "  </tbody>\n",
       "</table>\n",
       "</div>"
      ],
      "text/plain": [
       "       num_characters    num_words  num_sentences\n",
       "count     4516.000000  4516.000000    4516.000000\n",
       "mean        70.456820    17.123339       1.815545\n",
       "std         56.356802    13.491315       1.364098\n",
       "min          2.000000     1.000000       1.000000\n",
       "25%         34.000000     8.000000       1.000000\n",
       "50%         52.000000    13.000000       1.000000\n",
       "75%         90.000000    22.000000       2.000000\n",
       "max        910.000000   220.000000      38.000000"
      ]
     },
     "execution_count": 28,
     "metadata": {},
     "output_type": "execute_result"
    }
   ],
   "source": [
    "#ham\n",
    "df[df['target']==0][['num_characters', 'num_words', 'num_sentences']].describe()"
   ]
  },
  {
   "cell_type": "code",
   "execution_count": 29,
   "id": "f96469a8",
   "metadata": {},
   "outputs": [
    {
     "data": {
      "text/html": [
       "<div>\n",
       "<style scoped>\n",
       "    .dataframe tbody tr th:only-of-type {\n",
       "        vertical-align: middle;\n",
       "    }\n",
       "\n",
       "    .dataframe tbody tr th {\n",
       "        vertical-align: top;\n",
       "    }\n",
       "\n",
       "    .dataframe thead th {\n",
       "        text-align: right;\n",
       "    }\n",
       "</style>\n",
       "<table border=\"1\" class=\"dataframe\">\n",
       "  <thead>\n",
       "    <tr style=\"text-align: right;\">\n",
       "      <th></th>\n",
       "      <th>num_characters</th>\n",
       "      <th>num_words</th>\n",
       "      <th>num_sentences</th>\n",
       "    </tr>\n",
       "  </thead>\n",
       "  <tbody>\n",
       "    <tr>\n",
       "      <th>count</th>\n",
       "      <td>653.000000</td>\n",
       "      <td>653.000000</td>\n",
       "      <td>653.000000</td>\n",
       "    </tr>\n",
       "    <tr>\n",
       "      <th>mean</th>\n",
       "      <td>137.479326</td>\n",
       "      <td>27.675345</td>\n",
       "      <td>2.977029</td>\n",
       "    </tr>\n",
       "    <tr>\n",
       "      <th>std</th>\n",
       "      <td>30.014336</td>\n",
       "      <td>7.011513</td>\n",
       "      <td>1.493676</td>\n",
       "    </tr>\n",
       "    <tr>\n",
       "      <th>min</th>\n",
       "      <td>13.000000</td>\n",
       "      <td>2.000000</td>\n",
       "      <td>1.000000</td>\n",
       "    </tr>\n",
       "    <tr>\n",
       "      <th>25%</th>\n",
       "      <td>131.000000</td>\n",
       "      <td>25.000000</td>\n",
       "      <td>2.000000</td>\n",
       "    </tr>\n",
       "    <tr>\n",
       "      <th>50%</th>\n",
       "      <td>148.000000</td>\n",
       "      <td>29.000000</td>\n",
       "      <td>3.000000</td>\n",
       "    </tr>\n",
       "    <tr>\n",
       "      <th>75%</th>\n",
       "      <td>157.000000</td>\n",
       "      <td>32.000000</td>\n",
       "      <td>4.000000</td>\n",
       "    </tr>\n",
       "    <tr>\n",
       "      <th>max</th>\n",
       "      <td>223.000000</td>\n",
       "      <td>46.000000</td>\n",
       "      <td>9.000000</td>\n",
       "    </tr>\n",
       "  </tbody>\n",
       "</table>\n",
       "</div>"
      ],
      "text/plain": [
       "       num_characters   num_words  num_sentences\n",
       "count      653.000000  653.000000     653.000000\n",
       "mean       137.479326   27.675345       2.977029\n",
       "std         30.014336    7.011513       1.493676\n",
       "min         13.000000    2.000000       1.000000\n",
       "25%        131.000000   25.000000       2.000000\n",
       "50%        148.000000   29.000000       3.000000\n",
       "75%        157.000000   32.000000       4.000000\n",
       "max        223.000000   46.000000       9.000000"
      ]
     },
     "execution_count": 29,
     "metadata": {},
     "output_type": "execute_result"
    }
   ],
   "source": [
    "#spam\n",
    "df[df['target']==1][['num_characters', 'num_words', 'num_sentences']].describe()"
   ]
  },
  {
   "cell_type": "code",
   "execution_count": 30,
   "id": "b0fb080f",
   "metadata": {},
   "outputs": [],
   "source": [
    "import seaborn as sns"
   ]
  },
  {
   "cell_type": "code",
   "execution_count": 31,
   "id": "21790486",
   "metadata": {},
   "outputs": [
    {
     "data": {
      "text/plain": [
       "<AxesSubplot:xlabel='num_characters', ylabel='Count'>"
      ]
     },
     "execution_count": 31,
     "metadata": {},
     "output_type": "execute_result"
    },
    {
     "data": {
      "image/png": "[encoded data removed]",
      "text/plain": [
       "<Figure size 864x576 with 1 Axes>"
      ]
     },
     "metadata": {
      "needs_background": "light"
     },
     "output_type": "display_data"
    }
   ],
   "source": [
    "plt.figure(figsize=(12,8))\n",
    "sns.histplot(df[df['target']==0]['num_characters'])\n",
    "sns.histplot(df[df['target']==1]['num_characters'],color ='red')"
   ]
  },
  {
   "cell_type": "code",
   "execution_count": 32,
   "id": "c4ff8bf3",
   "metadata": {},
   "outputs": [
    {
     "data": {
      "text/plain": [
       "<AxesSubplot:xlabel='num_words', ylabel='Count'>"
      ]
     },
     "execution_count": 32,
     "metadata": {},
     "output_type": "execute_result"
    },
    {
     "data": {
      "image/png": "[encoded data removed]",
      "text/plain": [
       "<Figure size 864x576 with 1 Axes>"
      ]
     },
     "metadata": {
      "needs_background": "light"
     },
     "output_type": "display_data"
    }
   ],
   "source": [
    "plt.figure(figsize=(12,8))\n",
    "sns.histplot(df[df['target']==0]['num_words'])\n",
    "sns.histplot(df[df['target']==1]['num_words'],color ='red')"
   ]
  },
  {
   "cell_type": "code",
   "execution_count": 33,
   "id": "d4870316",
   "metadata": {},
   "outputs": [
    {
     "data": {
      "text/plain": [
       "<AxesSubplot:xlabel='num_sentences', ylabel='Count'>"
      ]
     },
     "execution_count": 33,
     "metadata": {},
     "output_type": "execute_result"
    },
    {
     "data": {
      "image/png": "[encoded data removed]",
      "text/plain": [
       "<Figure size 864x576 with 1 Axes>"
      ]
     },
     "metadata": {
      "needs_background": "light"
     },
     "output_type": "display_data"
    }
   ],
   "source": [
    "plt.figure(figsize=(12,8))\n",
    "sns.histplot(df[df['target']==0]['num_sentences'])\n",
    "sns.histplot(df[df['target']==1]['num_sentences'],color ='red')"
   ]
  },
  {
   "cell_type": "code",
   "execution_count": 34,
   "id": "94e6be17",
   "metadata": {},
   "outputs": [
    {
     "data": {
      "text/plain": [
       "<seaborn.axisgrid.PairGrid at 0x2946e950a90>"
      ]
     },
     "execution_count": 34,
     "metadata": {},
     "output_type": "execute_result"
    },
    {
     "data": {
      "image/png": "[encoded data removed]",
      "text/plain": [
       "<Figure size 582.375x540 with 12 Axes>"
      ]
     },
     "metadata": {
      "needs_background": "light"
     },
     "output_type": "display_data"
    }
   ],
   "source": [
    "# Correlation \n",
    "sns.pairplot(df, hue = 'target')"
   ]
  },
  {
   "cell_type": "code",
   "execution_count": 35,
   "id": "b4422f68",
   "metadata": {},
   "outputs": [
    {
     "data": {
      "text/html": [
       "<div>\n",
       "<style scoped>\n",
       "    .dataframe tbody tr th:only-of-type {\n",
       "        vertical-align: middle;\n",
       "    }\n",
       "\n",
       "    .dataframe tbody tr th {\n",
       "        vertical-align: top;\n",
       "    }\n",
       "\n",
       "    .dataframe thead th {\n",
       "        text-align: right;\n",
       "    }\n",
       "</style>\n",
       "<table border=\"1\" class=\"dataframe\">\n",
       "  <thead>\n",
       "    <tr style=\"text-align: right;\">\n",
       "      <th></th>\n",
       "      <th>target</th>\n",
       "      <th>num_characters</th>\n",
       "      <th>num_words</th>\n",
       "      <th>num_sentences</th>\n",
       "    </tr>\n",
       "  </thead>\n",
       "  <tbody>\n",
       "    <tr>\n",
       "      <th>target</th>\n",
       "      <td>1.000000</td>\n",
       "      <td>0.382785</td>\n",
       "      <td>0.263143</td>\n",
       "      <td>0.269132</td>\n",
       "    </tr>\n",
       "    <tr>\n",
       "      <th>num_characters</th>\n",
       "      <td>0.382785</td>\n",
       "      <td>1.000000</td>\n",
       "      <td>0.966087</td>\n",
       "      <td>0.626197</td>\n",
       "    </tr>\n",
       "    <tr>\n",
       "      <th>num_words</th>\n",
       "      <td>0.263143</td>\n",
       "      <td>0.966087</td>\n",
       "      <td>1.000000</td>\n",
       "      <td>0.680924</td>\n",
       "    </tr>\n",
       "    <tr>\n",
       "      <th>num_sentences</th>\n",
       "      <td>0.269132</td>\n",
       "      <td>0.626197</td>\n",
       "      <td>0.680924</td>\n",
       "      <td>1.000000</td>\n",
       "    </tr>\n",
       "  </tbody>\n",
       "</table>\n",
       "</div>"
      ],
      "text/plain": [
       "                  target  num_characters  num_words  num_sentences\n",
       "target          1.000000        0.382785   0.263143       0.269132\n",
       "num_characters  0.382785        1.000000   0.966087       0.626197\n",
       "num_words       0.263143        0.966087   1.000000       0.680924\n",
       "num_sentences   0.269132        0.626197   0.680924       1.000000"
      ]
     },
     "execution_count": 35,
     "metadata": {},
     "output_type": "execute_result"
    }
   ],
   "source": [
    "#Correlation coefficient\n",
    "df.corr()"
   ]
  },
  {
   "cell_type": "code",
   "execution_count": 36,
   "id": "53548a43",
   "metadata": {},
   "outputs": [
    {
     "data": {
      "text/plain": [
       "<AxesSubplot:>"
      ]
     },
     "execution_count": 36,
     "metadata": {},
     "output_type": "execute_result"
    },
    {
     "data": {
      "image/png": "[encoded data removed]",
      "text/plain": [
       "<Figure size 432x288 with 2 Axes>"
      ]
     },
     "metadata": {
      "needs_background": "light"
     },
     "output_type": "display_data"
    }
   ],
   "source": [
    "sns.heatmap(df.corr(),annot = True)"
   ]
  },
  {
   "cell_type": "markdown",
   "id": "b0195d7f",
   "metadata": {},
   "source": [
    "## Data Preprocessing\n",
    "###  Lower Case\n",
    "### Tokenization\n",
    "### Removing special Characters\n",
    "### Removing stop words and punctuation\n",
    "### Stemming"
   ]
  },
  {
   "cell_type": "code",
   "execution_count": 37,
   "id": "f61f509a",
   "metadata": {},
   "outputs": [],
   "source": [
    "from nltk.corpus import stopwords\n",
    "import string"
   ]
  },
  {
   "cell_type": "code",
   "execution_count": 38,
   "id": "f65438f7",
   "metadata": {},
   "outputs": [],
   "source": [
    "from nltk.stem.porter import PorterStemmer\n",
    "ps = PorterStemmer()"
   ]
  },
  {
   "cell_type": "code",
   "execution_count": 39,
   "id": "26c48e46",
   "metadata": {},
   "outputs": [],
   "source": [
    "def transform_text(text):\n",
    "    text = text.lower() # Lower case\n",
    "    text = nltk.word_tokenize(text) # Tokenization\n",
    "    y = []\n",
    "    for i in text:\n",
    "        if i.isalnum(): # removing special characters\n",
    "            y.append(i)\n",
    "    text = y[:]\n",
    "    y.clear()\n",
    "    \n",
    "    for i in text: # removing stopwards and Punctuation\n",
    "        if i not in stopwords.words('english') and i not in string.punctuation:\n",
    "            y.append(i)\n",
    "    text = y[:]\n",
    "    y.clear()\n",
    "    for i in text:\n",
    "        y.append(ps.stem(i)) # Stemming the words\n",
    "    return \" \".join(y)"
   ]
  },
  {
   "cell_type": "code",
   "execution_count": 40,
   "id": "e360d475",
   "metadata": {},
   "outputs": [
    {
     "data": {
      "text/plain": [
       "'like ppt'"
      ]
     },
     "execution_count": 40,
     "metadata": {},
     "output_type": "execute_result"
    }
   ],
   "source": [
    "transform_text(\"Did you likes my ppt\")"
   ]
  },
  {
   "cell_type": "code",
   "execution_count": 41,
   "id": "98ae8fe5",
   "metadata": {},
   "outputs": [],
   "source": [
    "df[\"transformed_text\"] = df[\"text\"].apply(transform_text)"
   ]
  },
  {
   "cell_type": "code",
   "execution_count": 42,
   "id": "0fa2d109",
   "metadata": {},
   "outputs": [
    {
     "data": {
      "text/html": [
       "<div>\n",
       "<style scoped>\n",
       "    .dataframe tbody tr th:only-of-type {\n",
       "        vertical-align: middle;\n",
       "    }\n",
       "\n",
       "    .dataframe tbody tr th {\n",
       "        vertical-align: top;\n",
       "    }\n",
       "\n",
       "    .dataframe thead th {\n",
       "        text-align: right;\n",
       "    }\n",
       "</style>\n",
       "<table border=\"1\" class=\"dataframe\">\n",
       "  <thead>\n",
       "    <tr style=\"text-align: right;\">\n",
       "      <th></th>\n",
       "      <th>target</th>\n",
       "      <th>text</th>\n",
       "      <th>num_characters</th>\n",
       "      <th>num_words</th>\n",
       "      <th>num_sentences</th>\n",
       "      <th>transformed_text</th>\n",
       "    </tr>\n",
       "  </thead>\n",
       "  <tbody>\n",
       "    <tr>\n",
       "      <th>0</th>\n",
       "      <td>0</td>\n",
       "      <td>Go until jurong point, crazy.. Available only ...</td>\n",
       "      <td>111</td>\n",
       "      <td>24</td>\n",
       "      <td>2</td>\n",
       "      <td>go jurong point crazi avail bugi n great world...</td>\n",
       "    </tr>\n",
       "    <tr>\n",
       "      <th>1</th>\n",
       "      <td>0</td>\n",
       "      <td>Ok lar... Joking wif u oni...</td>\n",
       "      <td>29</td>\n",
       "      <td>8</td>\n",
       "      <td>2</td>\n",
       "      <td>ok lar joke wif u oni</td>\n",
       "    </tr>\n",
       "    <tr>\n",
       "      <th>2</th>\n",
       "      <td>1</td>\n",
       "      <td>Free entry in 2 a wkly comp to win FA Cup fina...</td>\n",
       "      <td>155</td>\n",
       "      <td>37</td>\n",
       "      <td>2</td>\n",
       "      <td>free entri 2 wkli comp win fa cup final tkt 21...</td>\n",
       "    </tr>\n",
       "    <tr>\n",
       "      <th>3</th>\n",
       "      <td>0</td>\n",
       "      <td>U dun say so early hor... U c already then say...</td>\n",
       "      <td>49</td>\n",
       "      <td>13</td>\n",
       "      <td>1</td>\n",
       "      <td>u dun say earli hor u c alreadi say</td>\n",
       "    </tr>\n",
       "    <tr>\n",
       "      <th>4</th>\n",
       "      <td>0</td>\n",
       "      <td>Nah I don't think he goes to usf, he lives aro...</td>\n",
       "      <td>61</td>\n",
       "      <td>15</td>\n",
       "      <td>1</td>\n",
       "      <td>nah think goe usf live around though</td>\n",
       "    </tr>\n",
       "  </tbody>\n",
       "</table>\n",
       "</div>"
      ],
      "text/plain": [
       "   target                                               text  num_characters  \\\n",
       "0       0  Go until jurong point, crazy.. Available only ...             111   \n",
       "1       0                      Ok lar... Joking wif u oni...              29   \n",
       "2       1  Free entry in 2 a wkly comp to win FA Cup fina...             155   \n",
       "3       0  U dun say so early hor... U c already then say...              49   \n",
       "4       0  Nah I don't think he goes to usf, he lives aro...              61   \n",
       "\n",
       "   num_words  num_sentences                                   transformed_text  \n",
       "0         24              2  go jurong point crazi avail bugi n great world...  \n",
       "1          8              2                              ok lar joke wif u oni  \n",
       "2         37              2  free entri 2 wkli comp win fa cup final tkt 21...  \n",
       "3         13              1                u dun say earli hor u c alreadi say  \n",
       "4         15              1               nah think goe usf live around though  "
      ]
     },
     "execution_count": 42,
     "metadata": {},
     "output_type": "execute_result"
    }
   ],
   "source": [
    "df.head()"
   ]
  },
  {
   "cell_type": "code",
   "execution_count": 50,
   "id": "d2973cdc",
   "metadata": {},
   "outputs": [],
   "source": [
    "from wordcloud import WordCloud # Show important words in bigger size\n",
    "wc = WordCloud(width = 500, height = 500, min_font_size = 10, background_color = 'white')"
   ]
  },
  {
   "cell_type": "code",
   "execution_count": 51,
   "id": "6424a8a8",
   "metadata": {},
   "outputs": [],
   "source": [
    "spam_wc = wc.generate(df[df['target']==1]['transformed_text'].str.cat(sep =\" \"))"
   ]
  },
  {
   "cell_type": "code",
   "execution_count": 53,
   "id": "ba52a899",
   "metadata": {},
   "outputs": [
    {
     "data": {
      "text/plain": [
       "<matplotlib.image.AxesImage at 0x294728d2700>"
      ]
     },
     "execution_count": 53,
     "metadata": {},
     "output_type": "execute_result"
    },
    {
     "data": {
      "image/png": "[encoded data removed]",
      "text/plain": [
       "<Figure size 1080x432 with 1 Axes>"
      ]
     },
     "metadata": {
      "needs_background": "light"
     },
     "output_type": "display_data"
    }
   ],
   "source": [
    "plt.figure(figsize = (15,6))\n",
    "plt.imshow(spam_wc)"
   ]
  },
  {
   "cell_type": "code",
   "execution_count": 54,
   "id": "3eb8e126",
   "metadata": {},
   "outputs": [],
   "source": [
    "ham_wc = wc.generate(df[df['target']==0]['transformed_text'].str.cat(sep =\" \"))"
   ]
  },
  {
   "cell_type": "code",
   "execution_count": 55,
   "id": "fa6e915c",
   "metadata": {},
   "outputs": [
    {
     "data": {
      "text/plain": [
       "<matplotlib.image.AxesImage at 0x29473021f10>"
      ]
     },
     "execution_count": 55,
     "metadata": {},
     "output_type": "execute_result"
    },
    {
     "data": {
      "image/png": "[encoded data removed]",
      "text/plain": [
       "<Figure size 1080x432 with 1 Axes>"
      ]
     },
     "metadata": {
      "needs_background": "light"
     },
     "output_type": "display_data"
    }
   ],
   "source": [
    "plt.figure(figsize = (15,6))\n",
    "plt.imshow(ham_wc)"
   ]
  },
  {
   "cell_type": "code",
   "execution_count": 56,
   "id": "1521bcd7",
   "metadata": {},
   "outputs": [],
   "source": [
    "# Findout top 30 words in spam and Ham\n",
    "spam_corpus = []\n",
    "for msg in df[df['target']==1]['transformed_text'].tolist():\n",
    "    for word in msg.split():\n",
    "        spam_corpus.append(word)"
   ]
  },
  {
   "cell_type": "code",
   "execution_count": 57,
   "id": "945c75fd",
   "metadata": {},
   "outputs": [
    {
     "data": {
      "text/plain": [
       "['free',\n",
       " 'entri',\n",
       " '2',\n",
       " 'wkli',\n",
       " 'comp',\n",
       " 'win',\n",
       " 'fa',\n",
       " 'cup',\n",
       " 'final',\n",
       " 'tkt',\n",
       " '21st',\n",
       " 'may',\n",
       " 'text',\n",
       " 'fa',\n",
       " '87121',\n",
       " 'receiv',\n",
       " 'entri',\n",
       " 'question',\n",
       " 'std',\n",
       " 'txt',\n",
       " 'rate',\n",
       " 'c',\n",
       " 'appli',\n",
       " '08452810075over18',\n",
       " 'freemsg',\n",
       " 'hey',\n",
       " 'darl',\n",
       " '3',\n",
       " 'week',\n",
       " 'word',\n",
       " 'back',\n",
       " 'like',\n",
       " 'fun',\n",
       " 'still',\n",
       " 'tb',\n",
       " 'ok',\n",
       " 'xxx',\n",
       " 'std',\n",
       " 'chg',\n",
       " 'send',\n",
       " 'rcv',\n",
       " 'winner',\n",
       " 'valu',\n",
       " 'network',\n",
       " 'custom',\n",
       " 'select',\n",
       " 'receivea',\n",
       " 'prize',\n",
       " 'reward',\n",
       " 'claim',\n",
       " 'call',\n",
       " 'claim',\n",
       " 'code',\n",
       " 'kl341',\n",
       " 'valid',\n",
       " '12',\n",
       " 'hour',\n",
       " 'mobil',\n",
       " '11',\n",
       " 'month',\n",
       " 'u',\n",
       " 'r',\n",
       " 'entitl',\n",
       " 'updat',\n",
       " 'latest',\n",
       " 'colour',\n",
       " 'mobil',\n",
       " 'camera',\n",
       " 'free',\n",
       " 'call',\n",
       " 'mobil',\n",
       " 'updat',\n",
       " 'co',\n",
       " 'free',\n",
       " '08002986030',\n",
       " 'six',\n",
       " 'chanc',\n",
       " 'win',\n",
       " 'cash',\n",
       " '100',\n",
       " 'pound',\n",
       " 'txt',\n",
       " 'csh11',\n",
       " 'send',\n",
       " 'cost',\n",
       " '6day',\n",
       " 'tsandc',\n",
       " 'appli',\n",
       " 'repli',\n",
       " 'hl',\n",
       " '4',\n",
       " 'info',\n",
       " 'urgent',\n",
       " '1',\n",
       " 'week',\n",
       " 'free',\n",
       " 'membership',\n",
       " 'prize',\n",
       " 'jackpot',\n",
       " 'txt',\n",
       " 'word',\n",
       " 'claim',\n",
       " '81010',\n",
       " 'c',\n",
       " 'lccltd',\n",
       " 'pobox',\n",
       " '4403ldnw1a7rw18',\n",
       " 'xxxmobilemovieclub',\n",
       " 'use',\n",
       " 'credit',\n",
       " 'click',\n",
       " 'wap',\n",
       " 'link',\n",
       " 'next',\n",
       " 'txt',\n",
       " 'messag',\n",
       " 'click',\n",
       " 'http',\n",
       " 'england',\n",
       " 'v',\n",
       " 'macedonia',\n",
       " 'dont',\n",
       " 'miss',\n",
       " 'news',\n",
       " 'txt',\n",
       " 'ur',\n",
       " 'nation',\n",
       " 'team',\n",
       " '87077',\n",
       " 'eg',\n",
       " 'england',\n",
       " '87077',\n",
       " 'tri',\n",
       " 'wale',\n",
       " 'scotland',\n",
       " 'poboxox36504w45wq',\n",
       " 'thank',\n",
       " 'subscript',\n",
       " 'rington',\n",
       " 'uk',\n",
       " 'mobil',\n",
       " 'charg',\n",
       " 'pleas',\n",
       " 'confirm',\n",
       " 'repli',\n",
       " 'ye',\n",
       " 'repli',\n",
       " 'charg',\n",
       " '07732584351',\n",
       " 'rodger',\n",
       " 'burn',\n",
       " 'msg',\n",
       " 'tri',\n",
       " 'call',\n",
       " 'repli',\n",
       " 'sm',\n",
       " 'free',\n",
       " 'nokia',\n",
       " 'mobil',\n",
       " 'free',\n",
       " 'camcord',\n",
       " 'pleas',\n",
       " 'call',\n",
       " '08000930705',\n",
       " 'deliveri',\n",
       " 'tomorrow',\n",
       " 'sm',\n",
       " 'ac',\n",
       " 'sptv',\n",
       " 'new',\n",
       " 'jersey',\n",
       " 'devil',\n",
       " 'detroit',\n",
       " 'red',\n",
       " 'wing',\n",
       " 'play',\n",
       " 'ice',\n",
       " 'hockey',\n",
       " 'correct',\n",
       " 'incorrect',\n",
       " 'end',\n",
       " 'repli',\n",
       " 'end',\n",
       " 'sptv',\n",
       " 'congrat',\n",
       " '1',\n",
       " 'year',\n",
       " 'special',\n",
       " 'cinema',\n",
       " 'pass',\n",
       " '2',\n",
       " 'call',\n",
       " '09061209465',\n",
       " 'c',\n",
       " 'suprman',\n",
       " 'v',\n",
       " 'matrix3',\n",
       " 'starwars3',\n",
       " 'etc',\n",
       " '4',\n",
       " 'free',\n",
       " '150pm',\n",
       " 'dont',\n",
       " 'miss',\n",
       " 'valu',\n",
       " 'custom',\n",
       " 'pleas',\n",
       " 'advis',\n",
       " 'follow',\n",
       " 'recent',\n",
       " 'review',\n",
       " 'mob',\n",
       " 'award',\n",
       " 'bonu',\n",
       " 'prize',\n",
       " 'call',\n",
       " '09066364589',\n",
       " 'urgent',\n",
       " 'ur',\n",
       " 'award',\n",
       " 'complimentari',\n",
       " 'trip',\n",
       " 'eurodisinc',\n",
       " 'trav',\n",
       " 'aco',\n",
       " 'entry41',\n",
       " 'claim',\n",
       " 'txt',\n",
       " 'di',\n",
       " '87121',\n",
       " 'morefrmmob',\n",
       " 'shracomorsglsuplt',\n",
       " '10',\n",
       " 'ls1',\n",
       " '3aj',\n",
       " 'hear',\n",
       " 'new',\n",
       " 'come',\n",
       " 'ken',\n",
       " 'stuff',\n",
       " 'pleas',\n",
       " 'call',\n",
       " 'custom',\n",
       " 'servic',\n",
       " 'repres',\n",
       " '0800',\n",
       " '169',\n",
       " '6031',\n",
       " 'guarante',\n",
       " 'cash',\n",
       " 'prize',\n",
       " 'free',\n",
       " 'rington',\n",
       " 'wait',\n",
       " 'collect',\n",
       " 'simpli',\n",
       " 'text',\n",
       " 'password',\n",
       " '85069',\n",
       " 'verifi',\n",
       " 'get',\n",
       " 'usher',\n",
       " 'britney',\n",
       " 'fml',\n",
       " 'gent',\n",
       " 'tri',\n",
       " 'contact',\n",
       " 'last',\n",
       " 'weekend',\n",
       " 'draw',\n",
       " 'show',\n",
       " 'prize',\n",
       " 'guarante',\n",
       " 'call',\n",
       " 'claim',\n",
       " 'code',\n",
       " 'k52',\n",
       " 'valid',\n",
       " '12hr',\n",
       " '150ppm',\n",
       " 'winner',\n",
       " 'u',\n",
       " 'special',\n",
       " 'select',\n",
       " '2',\n",
       " 'receiv',\n",
       " '4',\n",
       " 'holiday',\n",
       " 'flight',\n",
       " 'inc',\n",
       " 'speak',\n",
       " 'live',\n",
       " 'oper',\n",
       " '2',\n",
       " 'claim',\n",
       " 'privat',\n",
       " '2004',\n",
       " 'account',\n",
       " 'statement',\n",
       " '07742676969',\n",
       " 'show',\n",
       " '786',\n",
       " 'unredeem',\n",
       " 'bonu',\n",
       " 'point',\n",
       " 'claim',\n",
       " 'call',\n",
       " '08719180248',\n",
       " 'identifi',\n",
       " 'code',\n",
       " '45239',\n",
       " 'expir',\n",
       " 'urgent',\n",
       " 'mobil',\n",
       " 'award',\n",
       " 'bonu',\n",
       " 'caller',\n",
       " 'prize',\n",
       " 'final',\n",
       " 'tri',\n",
       " 'contact',\n",
       " 'u',\n",
       " 'call',\n",
       " 'landlin',\n",
       " '09064019788',\n",
       " 'box42wr29c',\n",
       " '150ppm',\n",
       " 'today',\n",
       " 'voda',\n",
       " 'number',\n",
       " 'end',\n",
       " '7548',\n",
       " 'select',\n",
       " 'receiv',\n",
       " '350',\n",
       " 'award',\n",
       " 'match',\n",
       " 'pleas',\n",
       " 'call',\n",
       " '08712300220',\n",
       " 'quot',\n",
       " 'claim',\n",
       " 'code',\n",
       " '4041',\n",
       " 'standard',\n",
       " 'rate',\n",
       " 'app',\n",
       " 'sunshin',\n",
       " 'quiz',\n",
       " 'wkli',\n",
       " 'q',\n",
       " 'win',\n",
       " 'top',\n",
       " 'soni',\n",
       " 'dvd',\n",
       " 'player',\n",
       " 'u',\n",
       " 'know',\n",
       " 'countri',\n",
       " 'algarv',\n",
       " 'txt',\n",
       " 'ansr',\n",
       " '82277',\n",
       " 'sp',\n",
       " 'tyron',\n",
       " 'want',\n",
       " '2',\n",
       " 'get',\n",
       " 'laid',\n",
       " 'tonight',\n",
       " 'want',\n",
       " 'real',\n",
       " 'dog',\n",
       " 'locat',\n",
       " 'sent',\n",
       " 'direct',\n",
       " '2',\n",
       " 'ur',\n",
       " 'mob',\n",
       " 'join',\n",
       " 'uk',\n",
       " 'largest',\n",
       " 'dog',\n",
       " 'network',\n",
       " 'bt',\n",
       " 'txting',\n",
       " 'gravel',\n",
       " '69888',\n",
       " 'nt',\n",
       " 'ec2a',\n",
       " '150p',\n",
       " 'rcv',\n",
       " 'msg',\n",
       " 'chat',\n",
       " 'svc',\n",
       " 'free',\n",
       " 'hardcor',\n",
       " 'servic',\n",
       " 'text',\n",
       " 'go',\n",
       " '69988',\n",
       " 'u',\n",
       " 'get',\n",
       " 'noth',\n",
       " 'u',\n",
       " 'must',\n",
       " 'age',\n",
       " 'verifi',\n",
       " 'yr',\n",
       " 'network',\n",
       " 'tri',\n",
       " 'freemsg',\n",
       " 'repli',\n",
       " 'text',\n",
       " 'randi',\n",
       " 'sexi',\n",
       " 'femal',\n",
       " 'live',\n",
       " 'local',\n",
       " 'luv',\n",
       " 'hear',\n",
       " 'netcollex',\n",
       " 'ltd',\n",
       " '08700621170150p',\n",
       " 'per',\n",
       " 'msg',\n",
       " 'repli',\n",
       " 'stop',\n",
       " 'end',\n",
       " 'custom',\n",
       " 'servic',\n",
       " 'annonc',\n",
       " 'new',\n",
       " 'year',\n",
       " 'deliveri',\n",
       " 'wait',\n",
       " 'pleas',\n",
       " 'call',\n",
       " '07046744435',\n",
       " 'arrang',\n",
       " 'deliveri',\n",
       " 'winner',\n",
       " 'u',\n",
       " 'special',\n",
       " 'select',\n",
       " '2',\n",
       " 'receiv',\n",
       " 'cash',\n",
       " '4',\n",
       " 'holiday',\n",
       " 'flight',\n",
       " 'inc',\n",
       " 'speak',\n",
       " 'live',\n",
       " 'oper',\n",
       " '2',\n",
       " 'claim',\n",
       " '0871277810810',\n",
       " 'stop',\n",
       " 'bootydeli',\n",
       " 'invit',\n",
       " 'friend',\n",
       " 'repli',\n",
       " 'see',\n",
       " 'stop',\n",
       " 'send',\n",
       " 'stop',\n",
       " 'frnd',\n",
       " '62468',\n",
       " 'bangbab',\n",
       " 'ur',\n",
       " 'order',\n",
       " 'way',\n",
       " 'u',\n",
       " 'receiv',\n",
       " 'servic',\n",
       " 'msg',\n",
       " '2',\n",
       " 'download',\n",
       " 'ur',\n",
       " 'content',\n",
       " 'u',\n",
       " 'goto',\n",
       " 'wap',\n",
       " 'bangb',\n",
       " 'tv',\n",
       " 'ur',\n",
       " 'mobil',\n",
       " 'menu',\n",
       " 'urgent',\n",
       " 'tri',\n",
       " 'contact',\n",
       " 'last',\n",
       " 'weekend',\n",
       " 'draw',\n",
       " 'show',\n",
       " 'prize',\n",
       " 'guarante',\n",
       " 'call',\n",
       " 'claim',\n",
       " 'code',\n",
       " 's89',\n",
       " 'valid',\n",
       " '12hr',\n",
       " 'pleas',\n",
       " 'call',\n",
       " 'custom',\n",
       " 'servic',\n",
       " 'repres',\n",
       " 'freephon',\n",
       " '0808',\n",
       " '145',\n",
       " '4742',\n",
       " 'guarante',\n",
       " 'cash',\n",
       " 'prize',\n",
       " 'uniqu',\n",
       " 'enough',\n",
       " 'find',\n",
       " '30th',\n",
       " 'august',\n",
       " '500',\n",
       " 'new',\n",
       " 'mobil',\n",
       " '2004',\n",
       " 'must',\n",
       " 'go',\n",
       " 'txt',\n",
       " 'nokia',\n",
       " '89545',\n",
       " 'collect',\n",
       " 'today',\n",
       " '2optout',\n",
       " 'u',\n",
       " 'meet',\n",
       " 'ur',\n",
       " 'dream',\n",
       " 'partner',\n",
       " 'soon',\n",
       " 'ur',\n",
       " 'career',\n",
       " '2',\n",
       " 'flyng',\n",
       " 'start',\n",
       " '2',\n",
       " 'find',\n",
       " 'free',\n",
       " 'txt',\n",
       " 'horo',\n",
       " 'follow',\n",
       " 'ur',\n",
       " 'star',\n",
       " 'sign',\n",
       " 'horo',\n",
       " 'ari',\n",
       " 'text',\n",
       " 'meet',\n",
       " 'someon',\n",
       " 'sexi',\n",
       " 'today',\n",
       " 'u',\n",
       " 'find',\n",
       " 'date',\n",
       " 'even',\n",
       " 'flirt',\n",
       " 'join',\n",
       " '4',\n",
       " '10p',\n",
       " 'repli',\n",
       " 'name',\n",
       " 'age',\n",
       " 'eg',\n",
       " 'sam',\n",
       " '25',\n",
       " '18',\n",
       " 'recd',\n",
       " 'thirtyeight',\n",
       " 'penc',\n",
       " 'u',\n",
       " '447801259231',\n",
       " 'secret',\n",
       " 'admir',\n",
       " 'look',\n",
       " '2',\n",
       " 'make',\n",
       " 'contact',\n",
       " 'r',\n",
       " 'reveal',\n",
       " 'think',\n",
       " 'ur',\n",
       " '09058094597',\n",
       " 'congratul',\n",
       " 'ur',\n",
       " 'award',\n",
       " '500',\n",
       " 'cd',\n",
       " 'voucher',\n",
       " '125gift',\n",
       " 'guarante',\n",
       " 'free',\n",
       " 'entri',\n",
       " '2',\n",
       " '100',\n",
       " 'wkli',\n",
       " 'draw',\n",
       " 'txt',\n",
       " 'music',\n",
       " '87066',\n",
       " 'tnc',\n",
       " 'tri',\n",
       " 'contact',\n",
       " 'repli',\n",
       " 'offer',\n",
       " 'video',\n",
       " 'handset',\n",
       " '750',\n",
       " 'anytim',\n",
       " 'network',\n",
       " 'min',\n",
       " 'unlimit',\n",
       " 'text',\n",
       " 'camcord',\n",
       " 'repli',\n",
       " 'call',\n",
       " '08000930705',\n",
       " 'hey',\n",
       " 'realli',\n",
       " 'horni',\n",
       " 'want',\n",
       " 'chat',\n",
       " 'see',\n",
       " 'nake',\n",
       " 'text',\n",
       " 'hot',\n",
       " '69698',\n",
       " 'text',\n",
       " 'charg',\n",
       " '150pm',\n",
       " 'unsubscrib',\n",
       " 'text',\n",
       " 'stop',\n",
       " '69698',\n",
       " 'ur',\n",
       " 'rington',\n",
       " 'servic',\n",
       " 'chang',\n",
       " '25',\n",
       " 'free',\n",
       " 'credit',\n",
       " 'go',\n",
       " 'choos',\n",
       " 'content',\n",
       " 'stop',\n",
       " 'txt',\n",
       " 'club',\n",
       " 'stop',\n",
       " '87070',\n",
       " 'club4',\n",
       " 'po',\n",
       " 'box1146',\n",
       " 'mk45',\n",
       " '2wt',\n",
       " 'rington',\n",
       " 'club',\n",
       " 'get',\n",
       " 'uk',\n",
       " 'singl',\n",
       " 'chart',\n",
       " 'mobil',\n",
       " 'week',\n",
       " 'choos',\n",
       " 'top',\n",
       " 'qualiti',\n",
       " 'rington',\n",
       " 'messag',\n",
       " 'free',\n",
       " 'charg',\n",
       " 'hmv',\n",
       " 'bonu',\n",
       " 'special',\n",
       " '500',\n",
       " 'pound',\n",
       " 'genuin',\n",
       " 'hmv',\n",
       " 'voucher',\n",
       " 'answer',\n",
       " '4',\n",
       " 'easi',\n",
       " 'question',\n",
       " 'play',\n",
       " 'send',\n",
       " 'hmv',\n",
       " '86688',\n",
       " 'info',\n",
       " 'custom',\n",
       " 'may',\n",
       " 'claim',\n",
       " 'free',\n",
       " 'camera',\n",
       " 'phone',\n",
       " 'upgrad',\n",
       " 'pay',\n",
       " 'go',\n",
       " 'sim',\n",
       " 'card',\n",
       " 'loyalti',\n",
       " 'call',\n",
       " '0845',\n",
       " '021',\n",
       " 'end',\n",
       " 'c',\n",
       " 'appli',\n",
       " 'sm',\n",
       " 'ac',\n",
       " 'blind',\n",
       " 'date',\n",
       " '4u',\n",
       " 'rodds1',\n",
       " 'aberdeen',\n",
       " 'unit',\n",
       " 'kingdom',\n",
       " 'check',\n",
       " 'http',\n",
       " 'sm',\n",
       " 'blind',\n",
       " 'date',\n",
       " 'send',\n",
       " 'hide',\n",
       " 'themob',\n",
       " 'check',\n",
       " 'newest',\n",
       " 'select',\n",
       " 'content',\n",
       " 'game',\n",
       " 'tone',\n",
       " 'gossip',\n",
       " 'babe',\n",
       " 'sport',\n",
       " 'keep',\n",
       " 'mobil',\n",
       " 'fit',\n",
       " 'funki',\n",
       " 'text',\n",
       " 'wap',\n",
       " '82468',\n",
       " 'think',\n",
       " 'ur',\n",
       " 'smart',\n",
       " 'win',\n",
       " 'week',\n",
       " 'weekli',\n",
       " 'quiz',\n",
       " 'text',\n",
       " 'play',\n",
       " '85222',\n",
       " 'cs',\n",
       " 'winnersclub',\n",
       " 'po',\n",
       " 'box',\n",
       " '84',\n",
       " 'm26',\n",
       " '3uz',\n",
       " 'decemb',\n",
       " 'mobil',\n",
       " 'entitl',\n",
       " 'updat',\n",
       " 'latest',\n",
       " 'colour',\n",
       " 'camera',\n",
       " 'mobil',\n",
       " 'free',\n",
       " 'call',\n",
       " 'mobil',\n",
       " 'updat',\n",
       " 'co',\n",
       " 'free',\n",
       " '08002986906',\n",
       " 'call',\n",
       " 'germani',\n",
       " '1',\n",
       " 'penc',\n",
       " 'per',\n",
       " 'minut',\n",
       " 'call',\n",
       " 'fix',\n",
       " 'line',\n",
       " 'via',\n",
       " 'access',\n",
       " 'number',\n",
       " '0844',\n",
       " '861',\n",
       " '85',\n",
       " 'prepay',\n",
       " 'direct',\n",
       " 'access',\n",
       " 'valentin',\n",
       " 'day',\n",
       " 'special',\n",
       " 'win',\n",
       " 'quiz',\n",
       " 'take',\n",
       " 'partner',\n",
       " 'trip',\n",
       " 'lifetim',\n",
       " 'send',\n",
       " 'go',\n",
       " '83600',\n",
       " 'rcvd',\n",
       " 'fanci',\n",
       " 'shag',\n",
       " 'txt',\n",
       " 'xxuk',\n",
       " 'suzi',\n",
       " 'txt',\n",
       " 'cost',\n",
       " 'per',\n",
       " 'msg',\n",
       " 'tnc',\n",
       " 'websit',\n",
       " 'x',\n",
       " 'ur',\n",
       " 'current',\n",
       " '500',\n",
       " 'pound',\n",
       " 'maxim',\n",
       " 'ur',\n",
       " 'send',\n",
       " 'cash',\n",
       " '86688',\n",
       " 'cc',\n",
       " '08708800282',\n",
       " 'xma',\n",
       " 'offer',\n",
       " 'latest',\n",
       " 'motorola',\n",
       " 'sonyericsson',\n",
       " 'nokia',\n",
       " 'free',\n",
       " 'bluetooth',\n",
       " 'doubl',\n",
       " 'min',\n",
       " '1000',\n",
       " 'txt',\n",
       " 'orang',\n",
       " 'call',\n",
       " 'mobileupd8',\n",
       " '08000839402',\n",
       " 'discount',\n",
       " 'code',\n",
       " 'rp176781',\n",
       " 'stop',\n",
       " 'messag',\n",
       " 'repli',\n",
       " 'stop',\n",
       " 'custom',\n",
       " 'servic',\n",
       " '08717205546',\n",
       " 'thank',\n",
       " 'rington',\n",
       " 'order',\n",
       " 'refer',\n",
       " 't91',\n",
       " 'charg',\n",
       " 'gbp',\n",
       " '4',\n",
       " 'per',\n",
       " 'week',\n",
       " 'unsubscrib',\n",
       " 'anytim',\n",
       " 'call',\n",
       " 'custom',\n",
       " 'servic',\n",
       " '09057039994',\n",
       " 'doubl',\n",
       " 'min',\n",
       " 'txt',\n",
       " '4',\n",
       " '6month',\n",
       " 'free',\n",
       " 'bluetooth',\n",
       " 'orang',\n",
       " 'avail',\n",
       " 'soni',\n",
       " 'nokia',\n",
       " 'motorola',\n",
       " 'phone',\n",
       " 'call',\n",
       " 'mobileupd8',\n",
       " '08000839402',\n",
       " '4mth',\n",
       " 'half',\n",
       " 'price',\n",
       " 'orang',\n",
       " 'line',\n",
       " 'rental',\n",
       " 'latest',\n",
       " 'camera',\n",
       " 'phone',\n",
       " '4',\n",
       " 'free',\n",
       " 'phone',\n",
       " '11mth',\n",
       " 'call',\n",
       " 'mobilesdirect',\n",
       " 'free',\n",
       " '08000938767',\n",
       " 'updat',\n",
       " 'or2stoptxt',\n",
       " 'free',\n",
       " 'rington',\n",
       " 'text',\n",
       " 'first',\n",
       " '87131',\n",
       " 'poli',\n",
       " 'text',\n",
       " 'get',\n",
       " '87131',\n",
       " 'true',\n",
       " 'tone',\n",
       " 'help',\n",
       " '0845',\n",
       " '2814032',\n",
       " '16',\n",
       " '1st',\n",
       " 'free',\n",
       " 'tone',\n",
       " 'txt',\n",
       " 'stop',\n",
       " '100',\n",
       " 'date',\n",
       " 'servic',\n",
       " 'cal',\n",
       " 'l',\n",
       " '09064012103',\n",
       " 'box334sk38ch',\n",
       " 'free',\n",
       " 'entri',\n",
       " 'weekli',\n",
       " 'competit',\n",
       " 'text',\n",
       " 'word',\n",
       " 'win',\n",
       " '80086',\n",
       " '18',\n",
       " 'c',\n",
       " 'send',\n",
       " 'logo',\n",
       " '2',\n",
       " 'ur',\n",
       " 'lover',\n",
       " '2',\n",
       " 'name',\n",
       " 'join',\n",
       " 'heart',\n",
       " 'txt',\n",
       " 'love',\n",
       " 'name1',\n",
       " 'name2',\n",
       " 'mobno',\n",
       " 'eg',\n",
       " 'love',\n",
       " 'adam',\n",
       " 'eve',\n",
       " '07123456789',\n",
       " '87077',\n",
       " 'yahoo',\n",
       " 'pobox36504w45wq',\n",
       " 'txtno',\n",
       " '4',\n",
       " 'ad',\n",
       " '150p',\n",
       " 'someon',\n",
       " 'contact',\n",
       " 'date',\n",
       " 'servic',\n",
       " 'enter',\n",
       " 'phone',\n",
       " 'fanci',\n",
       " 'find',\n",
       " 'call',\n",
       " 'landlin',\n",
       " '09111032124',\n",
       " 'pobox12n146tf150p',\n",
       " 'urgent',\n",
       " 'mobil',\n",
       " 'number',\n",
       " 'award',\n",
       " 'prize',\n",
       " 'guarante',\n",
       " 'call',\n",
       " '09058094455',\n",
       " 'land',\n",
       " 'line',\n",
       " 'claim',\n",
       " 'valid',\n",
       " '12hr',\n",
       " 'congrat',\n",
       " 'nokia',\n",
       " '3650',\n",
       " 'video',\n",
       " ...]"
      ]
     },
     "execution_count": 57,
     "metadata": {},
     "output_type": "execute_result"
    }
   ],
   "source": [
    "spam_corpus"
   ]
  },
  {
   "cell_type": "code",
   "execution_count": 58,
   "id": "3f912c79",
   "metadata": {},
   "outputs": [],
   "source": [
    "from collections import Counter"
   ]
  },
  {
   "cell_type": "code",
   "execution_count": 64,
   "id": "3a244f01",
   "metadata": {},
   "outputs": [
    {
     "name": "stderr",
     "output_type": "stream",
     "text": [
      "C:\\Users\\amitp\\anaconda3\\lib\\site-packages\\seaborn\\_decorators.py:36: FutureWarning: Pass the following variables as keyword args: x, y. From version 0.12, the only valid positional argument will be `data`, and passing other arguments without an explicit keyword will result in an error or misinterpretation.\n",
      "  warnings.warn(\n"
     ]
    },
    {
     "data": {
      "text/plain": [
       "(array([ 0,  1,  2,  3,  4,  5,  6,  7,  8,  9, 10, 11, 12, 13, 14, 15, 16,\n",
       "        17, 18, 19, 20, 21, 22, 23, 24, 25, 26, 27, 28, 29]),\n",
       " [Text(0, 0, 'call'),\n",
       "  Text(1, 0, 'free'),\n",
       "  Text(2, 0, '2'),\n",
       "  Text(3, 0, 'txt'),\n",
       "  Text(4, 0, 'text'),\n",
       "  Text(5, 0, 'u'),\n",
       "  Text(6, 0, 'ur'),\n",
       "  Text(7, 0, 'mobil'),\n",
       "  Text(8, 0, 'stop'),\n",
       "  Text(9, 0, 'repli'),\n",
       "  Text(10, 0, 'claim'),\n",
       "  Text(11, 0, '4'),\n",
       "  Text(12, 0, 'prize'),\n",
       "  Text(13, 0, 'get'),\n",
       "  Text(14, 0, 'new'),\n",
       "  Text(15, 0, 'servic'),\n",
       "  Text(16, 0, 'tone'),\n",
       "  Text(17, 0, 'send'),\n",
       "  Text(18, 0, 'urgent'),\n",
       "  Text(19, 0, 'nokia'),\n",
       "  Text(20, 0, 'contact'),\n",
       "  Text(21, 0, 'award'),\n",
       "  Text(22, 0, 'phone'),\n",
       "  Text(23, 0, 'cash'),\n",
       "  Text(24, 0, 'pleas'),\n",
       "  Text(25, 0, 'week'),\n",
       "  Text(26, 0, 'win'),\n",
       "  Text(27, 0, 'c'),\n",
       "  Text(28, 0, 'collect'),\n",
       "  Text(29, 0, 'min')])"
      ]
     },
     "execution_count": 64,
     "metadata": {},
     "output_type": "execute_result"
    },
    {
     "data": {
      "image/png": "[encoded data removed]",
      "text/plain": [
       "<Figure size 432x288 with 1 Axes>"
      ]
     },
     "metadata": {
      "needs_background": "light"
     },
     "output_type": "display_data"
    }
   ],
   "source": [
    "sns.barplot(pd.DataFrame(Counter(spam_corpus).most_common(30))[0], pd.DataFrame(Counter(spam_corpus).most_common(30))[1])\n",
    "plt.xticks(rotation = 'vertical')"
   ]
  },
  {
   "cell_type": "code",
   "execution_count": 65,
   "id": "2504803a",
   "metadata": {},
   "outputs": [
    {
     "name": "stderr",
     "output_type": "stream",
     "text": [
      "C:\\Users\\amitp\\anaconda3\\lib\\site-packages\\seaborn\\_decorators.py:36: FutureWarning: Pass the following variables as keyword args: x, y. From version 0.12, the only valid positional argument will be `data`, and passing other arguments without an explicit keyword will result in an error or misinterpretation.\n",
      "  warnings.warn(\n"
     ]
    },
    {
     "data": {
      "text/plain": [
       "(array([ 0,  1,  2,  3,  4,  5,  6,  7,  8,  9, 10, 11, 12, 13, 14, 15, 16,\n",
       "        17, 18, 19, 20, 21, 22, 23, 24, 25, 26, 27, 28, 29]),\n",
       " [Text(0, 0, 'u'),\n",
       "  Text(1, 0, 'go'),\n",
       "  Text(2, 0, 'get'),\n",
       "  Text(3, 0, 'gt'),\n",
       "  Text(4, 0, 'lt'),\n",
       "  Text(5, 0, '2'),\n",
       "  Text(6, 0, 'come'),\n",
       "  Text(7, 0, 'got'),\n",
       "  Text(8, 0, 'know'),\n",
       "  Text(9, 0, 'like'),\n",
       "  Text(10, 0, 'call'),\n",
       "  Text(11, 0, 'time'),\n",
       "  Text(12, 0, 'love'),\n",
       "  Text(13, 0, 'ok'),\n",
       "  Text(14, 0, 'good'),\n",
       "  Text(15, 0, 'want'),\n",
       "  Text(16, 0, 'ur'),\n",
       "  Text(17, 0, 'day'),\n",
       "  Text(18, 0, 'need'),\n",
       "  Text(19, 0, 'one'),\n",
       "  Text(20, 0, 'lor'),\n",
       "  Text(21, 0, '4'),\n",
       "  Text(22, 0, 'home'),\n",
       "  Text(23, 0, 'think'),\n",
       "  Text(24, 0, 'see'),\n",
       "  Text(25, 0, 'take'),\n",
       "  Text(26, 0, 'still'),\n",
       "  Text(27, 0, 'da'),\n",
       "  Text(28, 0, 'tell'),\n",
       "  Text(29, 0, 'make')])"
      ]
     },
     "execution_count": 65,
     "metadata": {},
     "output_type": "execute_result"
    },
    {
     "data": {
      "image/png": "[encoded data removed]",
      "text/plain": [
       "<Figure size 432x288 with 1 Axes>"
      ]
     },
     "metadata": {
      "needs_background": "light"
     },
     "output_type": "display_data"
    }
   ],
   "source": [
    "ham_corpus = []\n",
    "for msg in df[df['target']==0]['transformed_text'].tolist():\n",
    "    for word in msg.split():\n",
    "        ham_corpus.append(word)\n",
    "sns.barplot(pd.DataFrame(Counter(ham_corpus).most_common(30))[0], pd.DataFrame(Counter(ham_corpus).most_common(30))[1])\n",
    "plt.xticks(rotation = 'vertical')"
   ]
  },
  {
   "cell_type": "markdown",
   "id": "d648a83d",
   "metadata": {},
   "source": [
    "## Model Building : \n",
    "### Usually Naive Bayes work good with Textual Data\n"
   ]
  },
  {
   "cell_type": "code",
   "execution_count": 85,
   "id": "74e5ef96",
   "metadata": {},
   "outputs": [],
   "source": [
    "from sklearn.feature_extraction.text import CountVectorizer, TfidfVectorizer\n",
    "cv = CountVectorizer()\n",
    "tfidf = TfidfVectorizer()"
   ]
  },
  {
   "cell_type": "code",
   "execution_count": 67,
   "id": "20b9ddb5",
   "metadata": {},
   "outputs": [],
   "source": [
    "x = cv.fit_transform(df['transformed_text']).toarray()"
   ]
  },
  {
   "cell_type": "code",
   "execution_count": 68,
   "id": "c00a07d7",
   "metadata": {},
   "outputs": [
    {
     "data": {
      "text/plain": [
       "(5169, 6677)"
      ]
     },
     "execution_count": 68,
     "metadata": {},
     "output_type": "execute_result"
    }
   ],
   "source": [
    "x.shape"
   ]
  },
  {
   "cell_type": "code",
   "execution_count": 69,
   "id": "96c2cf23",
   "metadata": {},
   "outputs": [],
   "source": [
    "y = df['target'].values"
   ]
  },
  {
   "cell_type": "code",
   "execution_count": 70,
   "id": "817b537e",
   "metadata": {},
   "outputs": [
    {
     "data": {
      "text/plain": [
       "array([0, 0, 1, ..., 0, 0, 0])"
      ]
     },
     "execution_count": 70,
     "metadata": {},
     "output_type": "execute_result"
    }
   ],
   "source": [
    "y"
   ]
  },
  {
   "cell_type": "code",
   "execution_count": 71,
   "id": "e7344423",
   "metadata": {},
   "outputs": [
    {
     "data": {
      "text/plain": [
       "array([[0, 0, 0, ..., 0, 0, 0],\n",
       "       [0, 0, 0, ..., 0, 0, 0],\n",
       "       [0, 0, 0, ..., 0, 0, 0],\n",
       "       ...,\n",
       "       [0, 0, 0, ..., 0, 0, 0],\n",
       "       [0, 0, 0, ..., 0, 0, 0],\n",
       "       [0, 0, 0, ..., 0, 0, 0]], dtype=int64)"
      ]
     },
     "execution_count": 71,
     "metadata": {},
     "output_type": "execute_result"
    }
   ],
   "source": [
    "x"
   ]
  },
  {
   "cell_type": "code",
   "execution_count": 73,
   "id": "f9a628c8",
   "metadata": {},
   "outputs": [],
   "source": [
    "from sklearn.model_selection import train_test_split\n",
    "x_train, x_test, y_train, y_test = train_test_split(x,y, test_size = 0.2, random_state = 2, stratify = y )"
   ]
  },
  {
   "cell_type": "code",
   "execution_count": 76,
   "id": "d65adfe0",
   "metadata": {},
   "outputs": [],
   "source": [
    "from sklearn.naive_bayes import GaussianNB, MultinomialNB, BernoulliNB\n"
   ]
  },
  {
   "cell_type": "code",
   "execution_count": 77,
   "id": "3e8d64d4",
   "metadata": {},
   "outputs": [],
   "source": [
    "gnb = GaussianNB()\n",
    "mnb = MultinomialNB()\n",
    "bnb = BernoulliNB()"
   ]
  },
  {
   "cell_type": "code",
   "execution_count": 79,
   "id": "0a9f5462",
   "metadata": {},
   "outputs": [],
   "source": [
    "from sklearn.metrics import accuracy_score, confusion_matrix, precision_score "
   ]
  },
  {
   "cell_type": "code",
   "execution_count": 81,
   "id": "010a69af",
   "metadata": {},
   "outputs": [
    {
     "name": "stdout",
     "output_type": "stream",
     "text": [
      "0.8781431334622823\n",
      "[[788 115]\n",
      " [ 11 120]]\n",
      "0.5106382978723404\n"
     ]
    }
   ],
   "source": [
    "gnb.fit(x_train, y_train)\n",
    "y_pred1 = gnb.predict(x_test)\n",
    "print(accuracy_score(y_test, y_pred1))\n",
    "print(confusion_matrix(y_test, y_pred1))\n",
    "print(precision_score(y_test, y_pred1))"
   ]
  },
  {
   "cell_type": "code",
   "execution_count": 83,
   "id": "d79a612c",
   "metadata": {},
   "outputs": [
    {
     "name": "stdout",
     "output_type": "stream",
     "text": [
      "0.971953578336557\n",
      "[[880  23]\n",
      " [  6 125]]\n",
      "0.8445945945945946\n"
     ]
    }
   ],
   "source": [
    "mnb.fit(x_train, y_train)\n",
    "y_pred2 = mnb.predict(x_test)\n",
    "print(accuracy_score(y_test, y_pred2))\n",
    "print(confusion_matrix(y_test, y_pred2))\n",
    "print(precision_score(y_test, y_pred2))"
   ]
  },
  {
   "cell_type": "code",
   "execution_count": 84,
   "id": "1f96b2cb",
   "metadata": {},
   "outputs": [
    {
     "name": "stdout",
     "output_type": "stream",
     "text": [
      "0.97678916827853\n",
      "[[901   2]\n",
      " [ 22 109]]\n",
      "0.9819819819819819\n"
     ]
    }
   ],
   "source": [
    "bnb.fit(x_train, y_train)\n",
    "y_pred3 = bnb.predict(x_test)\n",
    "print(accuracy_score(y_test, y_pred3))\n",
    "print(confusion_matrix(y_test, y_pred3))\n",
    "print(precision_score(y_test, y_pred3))"
   ]
  },
  {
   "cell_type": "code",
   "execution_count": 86,
   "id": "39b3dfa1",
   "metadata": {},
   "outputs": [],
   "source": [
    "X = tfidf.fit_transform(df['transformed_text']).toarray()"
   ]
  },
  {
   "cell_type": "code",
   "execution_count": 87,
   "id": "7b9af320",
   "metadata": {},
   "outputs": [],
   "source": [
    "X_train, X_test, Y_train, Y_test = train_test_split(X,y, test_size = 0.2, random_state = 3, stratify = y )"
   ]
  },
  {
   "cell_type": "code",
   "execution_count": 89,
   "id": "072ceb7c",
   "metadata": {},
   "outputs": [
    {
     "name": "stdout",
     "output_type": "stream",
     "text": [
      "0.8752417794970987\n",
      "[[791 112]\n",
      " [ 17 114]]\n",
      "0.504424778761062\n"
     ]
    }
   ],
   "source": [
    "gnb.fit(X_train, Y_train)\n",
    "Y_pred1 = gnb.predict(X_test)\n",
    "print(accuracy_score(Y_test, Y_pred1))\n",
    "print(confusion_matrix(Y_test, Y_pred1))\n",
    "print(precision_score(Y_test, Y_pred1))"
   ]
  },
  {
   "cell_type": "code",
   "execution_count": 91,
   "id": "6c784b65",
   "metadata": {},
   "outputs": [
    {
     "name": "stdout",
     "output_type": "stream",
     "text": [
      "0.9613152804642167\n",
      "[[903   0]\n",
      " [ 40  91]]\n",
      "1.0\n"
     ]
    }
   ],
   "source": [
    "mnb.fit(X_train, Y_train)\n",
    "Y_pred2 = mnb.predict(X_test)\n",
    "print(accuracy_score(Y_test, Y_pred2))\n",
    "print(confusion_matrix(Y_test, Y_pred2))\n",
    "print(precision_score(Y_test, Y_pred2))"
   ]
  },
  {
   "cell_type": "code",
   "execution_count": 92,
   "id": "02e1c0fa",
   "metadata": {},
   "outputs": [
    {
     "name": "stdout",
     "output_type": "stream",
     "text": [
      "0.965183752417795\n",
      "[[898   5]\n",
      " [ 31 100]]\n",
      "0.9523809523809523\n"
     ]
    }
   ],
   "source": [
    "bnb.fit(X_train, Y_train)\n",
    "Y_pred3 = bnb.predict(X_test)\n",
    "print(accuracy_score(Y_test, Y_pred3))\n",
    "print(confusion_matrix(Y_test, Y_pred3))\n",
    "print(precision_score(Y_test, Y_pred3))"
   ]
  },
  {
   "cell_type": "code",
   "execution_count": null,
   "id": "1880694d",
   "metadata": {},
   "outputs": [],
   "source": [
    "# tfidf--> MNB\n",
    "# We will compare "
   ]
  },
  {
   "cell_type": "code",
   "execution_count": 94,
   "id": "9f7c59a7",
   "metadata": {},
   "outputs": [
    {
     "name": "stdout",
     "output_type": "stream",
     "text": [
      "Collecting xgboost\n",
      "  Downloading xgboost-1.6.1-py3-none-win_amd64.whl (125.4 MB)\n",
      "Requirement already satisfied: numpy in c:\\users\\amitp\\anaconda3\\lib\\site-packages (from xgboost) (1.20.1)\n",
      "Requirement already satisfied: scipy in c:\\users\\amitp\\anaconda3\\lib\\site-packages (from xgboost) (1.6.2)\n",
      "Installing collected packages: xgboost\n",
      "Successfully installed xgboost-1.6.1\n",
      "Note: you may need to restart the kernel to use updated packages.\n"
     ]
    }
   ],
   "source": [
    "pip install xgboost"
   ]
  },
  {
   "cell_type": "code",
   "execution_count": 95,
   "id": "5058f8db",
   "metadata": {},
   "outputs": [],
   "source": [
    "from sklearn.linear_model import LogisticRegression\n",
    "from sklearn.svm import SVC\n",
    "from sklearn.naive_bayes import MultinomialNB\n",
    "from sklearn.tree import DecisionTreeClassifier\n",
    "from sklearn.neighbors import KNeighborsClassifier\n",
    "from sklearn.ensemble import RandomForestClassifier, AdaBoostClassifier, BaggingClassifier, ExtraTreesClassifier, GradientBoostingClassifier\n",
    "from xgboost import XGBClassifier"
   ]
  },
  {
   "cell_type": "code",
   "execution_count": 97,
   "id": "26c04389",
   "metadata": {},
   "outputs": [],
   "source": [
    "svc = SVC(kernel = 'sigmoid', gamma = 1.0)\n",
    "knc = KNeighborsClassifier()\n",
    "mnb = MultinomialNB()\n",
    "dtc = DecisionTreeClassifier(max_depth = 5)\n",
    "lrc = LogisticRegression(solver = 'liblinear', penalty = 'l1')\n",
    "rfc = RandomForestClassifier(n_estimators=50, random_state=2)\n",
    "abc = AdaBoostClassifier(n_estimators=50, random_state=2)\n",
    "bc = BaggingClassifier(n_estimators=50, random_state=2)\n",
    "etc = ExtraTreesClassifier(n_estimators=50, random_state =2)\n",
    "gbdt = GradientBoostingClassifier(n_estimators=50, random_state=2)\n",
    "xgb = XGBClassifier(n_estimators = 50, random_state=2)"
   ]
  },
  {
   "cell_type": "code",
   "execution_count": 98,
   "id": "d438b2c1",
   "metadata": {},
   "outputs": [],
   "source": [
    "clfs = {\n",
    "    'SVC': svc,\n",
    "    'KN': knc,\n",
    "    'NB': mnb,\n",
    "    'DT':dtc,\n",
    "    \"LR\":lrc,\n",
    "    \"RF\":rfc,\n",
    "    \"AdaBoost\":abc,\n",
    "    \"Bgc\":bc,\n",
    "    \"ETC\":etc,\n",
    "    \"GBDT\":gbdt,\n",
    "    'xgb':xgb\n",
    "}"
   ]
  },
  {
   "cell_type": "code",
   "execution_count": 99,
   "id": "f29c9ad0",
   "metadata": {},
   "outputs": [],
   "source": [
    "def train_classifier(clf, X_train, Y_train, X_test, Y_test):\n",
    "    clf.fit(X_train, Y_train)\n",
    "    y_pred = clf.predict(X_test)\n",
    "    accuracy = accuracy_score(Y_test, y_pred)\n",
    "    precision = precision_score(Y_test, y_pred)\n",
    "    \n",
    "    return accuracy, precision"
   ]
  },
  {
   "cell_type": "code",
   "execution_count": 100,
   "id": "c8cd6f5e",
   "metadata": {},
   "outputs": [
    {
     "name": "stdout",
     "output_type": "stream",
     "text": [
      "For SVC\n",
      "Accuracy - 0.9680851063829787\n",
      "Precision 0.9622641509433962\n",
      "For KN\n",
      "Accuracy - 0.9100580270793037\n",
      "Precision 1.0\n",
      "For NB\n",
      "Accuracy - 0.9613152804642167\n",
      "Precision 1.0\n",
      "For DT\n",
      "Accuracy - 0.9390715667311412\n",
      "Precision 0.8541666666666666\n",
      "For LR\n",
      "Accuracy - 0.9506769825918762\n",
      "Precision 0.9081632653061225\n",
      "For RF\n",
      "Accuracy - 0.9700193423597679\n",
      "Precision 0.9901960784313726\n",
      "For AdaBoost\n",
      "Accuracy - 0.960348162475822\n",
      "Precision 0.9090909090909091\n",
      "For Bgc\n",
      "Accuracy - 0.9613152804642167\n",
      "Precision 0.8699186991869918\n",
      "For ETC\n",
      "Accuracy - 0.97678916827853\n",
      "Precision 0.9819819819819819\n",
      "For GBDT\n",
      "Accuracy - 0.9448742746615088\n",
      "Precision 0.9021739130434783\n",
      "For xgb\n",
      "Accuracy - 0.9622823984526112\n",
      "Precision 0.9259259259259259\n"
     ]
    }
   ],
   "source": [
    "accuracy_scores = []\n",
    "precision_scores = []\n",
    "for name, clf in clfs.items():\n",
    "    current_accuracy, current_precision = train_classifier(clf, X_train, Y_train, X_test, Y_test)\n",
    "    print(\"For\", name)\n",
    "    print(\"Accuracy -\", current_accuracy)\n",
    "    print(\"Precision\", current_precision)\n",
    "    \n",
    "    accuracy_scores.append(current_accuracy)\n",
    "    precision_scores.append(current_precision)\n",
    "    "
   ]
  },
  {
   "cell_type": "code",
   "execution_count": 108,
   "id": "e74d130c",
   "metadata": {},
   "outputs": [],
   "source": [
    "performance_df = pd.DataFrame({\"Algorithm\":clfs.keys(), \"Accuracy\":accuracy_scores, \"Precision\":precision_scores}).sort_values(\"Precision\", ascending = False)"
   ]
  },
  {
   "cell_type": "code",
   "execution_count": 109,
   "id": "b9d6d1c6",
   "metadata": {},
   "outputs": [
    {
     "data": {
      "text/html": [
       "<div>\n",
       "<style scoped>\n",
       "    .dataframe tbody tr th:only-of-type {\n",
       "        vertical-align: middle;\n",
       "    }\n",
       "\n",
       "    .dataframe tbody tr th {\n",
       "        vertical-align: top;\n",
       "    }\n",
       "\n",
       "    .dataframe thead th {\n",
       "        text-align: right;\n",
       "    }\n",
       "</style>\n",
       "<table border=\"1\" class=\"dataframe\">\n",
       "  <thead>\n",
       "    <tr style=\"text-align: right;\">\n",
       "      <th></th>\n",
       "      <th>Algorithm</th>\n",
       "      <th>Accuracy</th>\n",
       "      <th>Precision</th>\n",
       "    </tr>\n",
       "  </thead>\n",
       "  <tbody>\n",
       "    <tr>\n",
       "      <th>1</th>\n",
       "      <td>KN</td>\n",
       "      <td>0.910058</td>\n",
       "      <td>1.000000</td>\n",
       "    </tr>\n",
       "    <tr>\n",
       "      <th>2</th>\n",
       "      <td>NB</td>\n",
       "      <td>0.961315</td>\n",
       "      <td>1.000000</td>\n",
       "    </tr>\n",
       "    <tr>\n",
       "      <th>5</th>\n",
       "      <td>RF</td>\n",
       "      <td>0.970019</td>\n",
       "      <td>0.990196</td>\n",
       "    </tr>\n",
       "    <tr>\n",
       "      <th>8</th>\n",
       "      <td>ETC</td>\n",
       "      <td>0.976789</td>\n",
       "      <td>0.981982</td>\n",
       "    </tr>\n",
       "    <tr>\n",
       "      <th>0</th>\n",
       "      <td>SVC</td>\n",
       "      <td>0.968085</td>\n",
       "      <td>0.962264</td>\n",
       "    </tr>\n",
       "    <tr>\n",
       "      <th>10</th>\n",
       "      <td>xgb</td>\n",
       "      <td>0.962282</td>\n",
       "      <td>0.925926</td>\n",
       "    </tr>\n",
       "    <tr>\n",
       "      <th>6</th>\n",
       "      <td>AdaBoost</td>\n",
       "      <td>0.960348</td>\n",
       "      <td>0.909091</td>\n",
       "    </tr>\n",
       "    <tr>\n",
       "      <th>4</th>\n",
       "      <td>LR</td>\n",
       "      <td>0.950677</td>\n",
       "      <td>0.908163</td>\n",
       "    </tr>\n",
       "    <tr>\n",
       "      <th>9</th>\n",
       "      <td>GBDT</td>\n",
       "      <td>0.944874</td>\n",
       "      <td>0.902174</td>\n",
       "    </tr>\n",
       "    <tr>\n",
       "      <th>7</th>\n",
       "      <td>Bgc</td>\n",
       "      <td>0.961315</td>\n",
       "      <td>0.869919</td>\n",
       "    </tr>\n",
       "    <tr>\n",
       "      <th>3</th>\n",
       "      <td>DT</td>\n",
       "      <td>0.939072</td>\n",
       "      <td>0.854167</td>\n",
       "    </tr>\n",
       "  </tbody>\n",
       "</table>\n",
       "</div>"
      ],
      "text/plain": [
       "   Algorithm  Accuracy  Precision\n",
       "1         KN  0.910058   1.000000\n",
       "2         NB  0.961315   1.000000\n",
       "5         RF  0.970019   0.990196\n",
       "8        ETC  0.976789   0.981982\n",
       "0        SVC  0.968085   0.962264\n",
       "10       xgb  0.962282   0.925926\n",
       "6   AdaBoost  0.960348   0.909091\n",
       "4         LR  0.950677   0.908163\n",
       "9       GBDT  0.944874   0.902174\n",
       "7        Bgc  0.961315   0.869919\n",
       "3         DT  0.939072   0.854167"
      ]
     },
     "execution_count": 109,
     "metadata": {},
     "output_type": "execute_result"
    }
   ],
   "source": [
    "performance_df"
   ]
  },
  {
   "cell_type": "code",
   "execution_count": 113,
   "id": "d29af069",
   "metadata": {},
   "outputs": [
    {
     "data": {
      "text/html": [
       "<div>\n",
       "<style scoped>\n",
       "    .dataframe tbody tr th:only-of-type {\n",
       "        vertical-align: middle;\n",
       "    }\n",
       "\n",
       "    .dataframe tbody tr th {\n",
       "        vertical-align: top;\n",
       "    }\n",
       "\n",
       "    .dataframe thead th {\n",
       "        text-align: right;\n",
       "    }\n",
       "</style>\n",
       "<table border=\"1\" class=\"dataframe\">\n",
       "  <thead>\n",
       "    <tr style=\"text-align: right;\">\n",
       "      <th></th>\n",
       "      <th>Algorithm</th>\n",
       "      <th>variable</th>\n",
       "      <th>value</th>\n",
       "    </tr>\n",
       "  </thead>\n",
       "  <tbody>\n",
       "    <tr>\n",
       "      <th>0</th>\n",
       "      <td>KN</td>\n",
       "      <td>Accuracy</td>\n",
       "      <td>0.910058</td>\n",
       "    </tr>\n",
       "    <tr>\n",
       "      <th>1</th>\n",
       "      <td>NB</td>\n",
       "      <td>Accuracy</td>\n",
       "      <td>0.961315</td>\n",
       "    </tr>\n",
       "    <tr>\n",
       "      <th>2</th>\n",
       "      <td>RF</td>\n",
       "      <td>Accuracy</td>\n",
       "      <td>0.970019</td>\n",
       "    </tr>\n",
       "    <tr>\n",
       "      <th>3</th>\n",
       "      <td>ETC</td>\n",
       "      <td>Accuracy</td>\n",
       "      <td>0.976789</td>\n",
       "    </tr>\n",
       "    <tr>\n",
       "      <th>4</th>\n",
       "      <td>SVC</td>\n",
       "      <td>Accuracy</td>\n",
       "      <td>0.968085</td>\n",
       "    </tr>\n",
       "    <tr>\n",
       "      <th>5</th>\n",
       "      <td>xgb</td>\n",
       "      <td>Accuracy</td>\n",
       "      <td>0.962282</td>\n",
       "    </tr>\n",
       "    <tr>\n",
       "      <th>6</th>\n",
       "      <td>AdaBoost</td>\n",
       "      <td>Accuracy</td>\n",
       "      <td>0.960348</td>\n",
       "    </tr>\n",
       "    <tr>\n",
       "      <th>7</th>\n",
       "      <td>LR</td>\n",
       "      <td>Accuracy</td>\n",
       "      <td>0.950677</td>\n",
       "    </tr>\n",
       "    <tr>\n",
       "      <th>8</th>\n",
       "      <td>GBDT</td>\n",
       "      <td>Accuracy</td>\n",
       "      <td>0.944874</td>\n",
       "    </tr>\n",
       "    <tr>\n",
       "      <th>9</th>\n",
       "      <td>Bgc</td>\n",
       "      <td>Accuracy</td>\n",
       "      <td>0.961315</td>\n",
       "    </tr>\n",
       "    <tr>\n",
       "      <th>10</th>\n",
       "      <td>DT</td>\n",
       "      <td>Accuracy</td>\n",
       "      <td>0.939072</td>\n",
       "    </tr>\n",
       "    <tr>\n",
       "      <th>11</th>\n",
       "      <td>KN</td>\n",
       "      <td>Precision</td>\n",
       "      <td>1.000000</td>\n",
       "    </tr>\n",
       "    <tr>\n",
       "      <th>12</th>\n",
       "      <td>NB</td>\n",
       "      <td>Precision</td>\n",
       "      <td>1.000000</td>\n",
       "    </tr>\n",
       "    <tr>\n",
       "      <th>13</th>\n",
       "      <td>RF</td>\n",
       "      <td>Precision</td>\n",
       "      <td>0.990196</td>\n",
       "    </tr>\n",
       "    <tr>\n",
       "      <th>14</th>\n",
       "      <td>ETC</td>\n",
       "      <td>Precision</td>\n",
       "      <td>0.981982</td>\n",
       "    </tr>\n",
       "    <tr>\n",
       "      <th>15</th>\n",
       "      <td>SVC</td>\n",
       "      <td>Precision</td>\n",
       "      <td>0.962264</td>\n",
       "    </tr>\n",
       "    <tr>\n",
       "      <th>16</th>\n",
       "      <td>xgb</td>\n",
       "      <td>Precision</td>\n",
       "      <td>0.925926</td>\n",
       "    </tr>\n",
       "    <tr>\n",
       "      <th>17</th>\n",
       "      <td>AdaBoost</td>\n",
       "      <td>Precision</td>\n",
       "      <td>0.909091</td>\n",
       "    </tr>\n",
       "    <tr>\n",
       "      <th>18</th>\n",
       "      <td>LR</td>\n",
       "      <td>Precision</td>\n",
       "      <td>0.908163</td>\n",
       "    </tr>\n",
       "    <tr>\n",
       "      <th>19</th>\n",
       "      <td>GBDT</td>\n",
       "      <td>Precision</td>\n",
       "      <td>0.902174</td>\n",
       "    </tr>\n",
       "    <tr>\n",
       "      <th>20</th>\n",
       "      <td>Bgc</td>\n",
       "      <td>Precision</td>\n",
       "      <td>0.869919</td>\n",
       "    </tr>\n",
       "    <tr>\n",
       "      <th>21</th>\n",
       "      <td>DT</td>\n",
       "      <td>Precision</td>\n",
       "      <td>0.854167</td>\n",
       "    </tr>\n",
       "  </tbody>\n",
       "</table>\n",
       "</div>"
      ],
      "text/plain": [
       "   Algorithm   variable     value\n",
       "0         KN   Accuracy  0.910058\n",
       "1         NB   Accuracy  0.961315\n",
       "2         RF   Accuracy  0.970019\n",
       "3        ETC   Accuracy  0.976789\n",
       "4        SVC   Accuracy  0.968085\n",
       "5        xgb   Accuracy  0.962282\n",
       "6   AdaBoost   Accuracy  0.960348\n",
       "7         LR   Accuracy  0.950677\n",
       "8       GBDT   Accuracy  0.944874\n",
       "9        Bgc   Accuracy  0.961315\n",
       "10        DT   Accuracy  0.939072\n",
       "11        KN  Precision  1.000000\n",
       "12        NB  Precision  1.000000\n",
       "13        RF  Precision  0.990196\n",
       "14       ETC  Precision  0.981982\n",
       "15       SVC  Precision  0.962264\n",
       "16       xgb  Precision  0.925926\n",
       "17  AdaBoost  Precision  0.909091\n",
       "18        LR  Precision  0.908163\n",
       "19      GBDT  Precision  0.902174\n",
       "20       Bgc  Precision  0.869919\n",
       "21        DT  Precision  0.854167"
      ]
     },
     "execution_count": 113,
     "metadata": {},
     "output_type": "execute_result"
    }
   ],
   "source": [
    "performance_df1 = pd.melt(performance_df, id_vars = \"Algorithm\")\n",
    "performance_df1"
   ]
  },
  {
   "cell_type": "code",
   "execution_count": 114,
   "id": "35dfbf60",
   "metadata": {},
   "outputs": [
    {
     "data": {
      "image/png": "[encoded data removed]",
      "text/plain": [
       "<Figure size 441.75x360 with 1 Axes>"
      ]
     },
     "metadata": {
      "needs_background": "light"
     },
     "output_type": "display_data"
    }
   ],
   "source": [
    "sns.catplot(x = \"Algorithm\", y = \"value\", hue = \"variable\", data = performance_df1, kind ='bar', height = 5)\n",
    "plt.ylim(0.5,1,0)\n",
    "plt.xticks(rotation = \"vertical\")\n",
    "plt.show()"
   ]
  },
  {
   "cell_type": "code",
   "execution_count": null,
   "id": "32097993",
   "metadata": {},
   "outputs": [],
   "source": [
    "# Model Improvment\n"
   ]
  }
 ],
 "metadata": {
  "kernelspec": {
   "display_name": "Python 3",
   "language": "python",
   "name": "python3"
  },
  "language_info": {
   "codemirror_mode": {
    "name": "ipython",
    "version": 3
   },
   "file_extension": ".py",
   "mimetype": "text/x-python",
   "name": "python",
   "nbconvert_exporter": "python",
   "pygments_lexer": "ipython3",
   "version": "3.8.8"
  }
 },
 "nbformat": 4,
 "nbformat_minor": 5
}
